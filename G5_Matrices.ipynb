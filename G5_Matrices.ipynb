{
  "cells": [
    {
      "cell_type": "markdown",
      "metadata": {
        "id": "UCCOMbmnLfHY"
      },
      "source": [
        "# Problema 1"
      ]
    },
    {
      "cell_type": "markdown",
      "metadata": {
        "id": "AHPLM97ONSwR"
      },
      "source": [
        "Las matrices $A$ y $B$ representan las ventas en dos años, en millones de dólares, de los tres productos de una empresa en las cuatro regiones en que está disponible. Es decir, $a_{ij}$ y $b_{ij}$ representan el monto de las ventas del producto $i$ en la región $j$ el primer y segundo año, respectivamente:\n",
        "\n",
        "<br>\n",
        "\n",
        "\\begin{split}\n",
        "A = \\begin{pmatrix}\n",
        " 2,6 &  4,8 &  1,8 & 0,9 \\\\\n",
        " 3,2 &  4,4 &  2,5 & 2,8 \\\\\n",
        " 2,4 &  3,6 &  3,8 & 2,5 \\\\\n",
        "\\end{pmatrix} \\text{ } B= \\begin{pmatrix}\n",
        " 3,6 &  2,5 &  3,0 & 2,5 \\\\\n",
        " 4,5 &  5,0 &  3,5 & 3,8 \\\\\n",
        " 2,9 &  3,0 &  4,6 & 4,0 \\\\\n",
        "\\end{pmatrix}\n",
        "\\end{split}\n",
        "\n",
        "<br>\n",
        "\n",
        "1. Indique el orden de cada matriz.\n",
        "2. Calcule la matriz $S = A + B$.\n",
        "3. Calcule la matriz $D = B - A$.\n",
        "4. Indique el valor e interprete los elementos $s_{24}$ y $d_{24}$.\n",
        "5. Para el tercer año de funcionamiento, los tres productos ahora están disponibles en seis regiones. Durante este año, las ventas de esta empresa estarán registradas en una matriz $E$. ¿Es posible determinar la matriz $T = A + B + E$? Justifique su respuesta."
      ]
    },
    {
      "cell_type": "code",
      "execution_count": 21,
      "metadata": {},
      "outputs": [
        {
          "name": "stdout",
          "output_type": "stream",
          "text": [
            "1. \n",
            "Orden: 3 x 4\n",
            "\n",
            "2. \n",
            "[[6.2 7.3 4.8 3.4]\n",
            " [7.7 9.4 6.  6.6]\n",
            " [5.3 5.6 8.4 6.5]]\n",
            "\n",
            "3. D = B - A \n",
            "[[ 1.  -2.3  1.2  1.6]\n",
            " [ 1.3  0.6  1.   1. ]\n",
            " [ 0.5  0.4  0.8  1.5]]\n",
            "\n",
            " 4.\n",
            "Después de 2 años se vendieron 6.6 millones de dólares por las ventas del producto 2 en la cuarta región.\n",
            "La diferencia entre las ventas del 2do y 1er años, del producto 2 en la región 4 fue de 1.0 millones de dólares.\n",
            "5. \n",
            "No es posible determinar la raiz T ya que la matriz A y matriz B son 3x4, pero en cambio la matriz E es 3x6. Por lo tanto no se pueden sumar porque no tienen el mismo orden.\n"
          ]
        }
      ],
      "source": [
        "#Matrices 3 4\n",
        "#Tiene tres productos --> filas = productos\n",
        "#Me dice que hay cuatro regiones --> columnas = regiones\n",
        "\n",
        "# A = ventas del primer año de 3 productos en 4 regiones\n",
        "# B = ventas del segundo año de 3 productos en 4 regiones\n",
        "\n",
        "#1 \n",
        "print(\"1. \\nOrden: 3 x 4\")\n",
        "\n",
        "#2 - Suma de las matrices\n",
        "\n",
        "import numpy as np\n",
        "\n",
        "#Declarar matrices según numpy\n",
        "A = np.array([[2.6, 4.8, 1.8, 0.9], [3.2, 4.4, 2.5, 2.8], [2.4, 2.6, 3.8, 2.5]])\n",
        "B = np.array([[3.6, 2.5, 3.0, 2.5], [4.5, 5.0, 3.5, 3.8], [2.9, 3.0, 4.6, 4.0]])\n",
        "\n",
        "S = A + B\n",
        "print(f\"\\n2. \\n{S}\")\n",
        "\n",
        "#3 - D = B - A\n",
        "\n",
        "D = B - A\n",
        "print(f\"\\n3. D = B - A \\n{D}\")\n",
        "\n",
        "#4. Indique el valor e interprete los elementos s24 y d24.\n",
        "\n",
        "#s24\n",
        "# Matriz suma (S) --> representa el total de ventas de los 2 años\n",
        "# Fila 2 = representa el segundo producto\n",
        "# Columna 4 = representa la cuarta región\n",
        "\n",
        "s24 = S[2-1][4-1]\n",
        "\n",
        "print(\"\\n 4.\")\n",
        "print(f\"Después de 2 años se vendieron {s24} millones de dólares por las ventas del producto 2 en la cuarta región.\")\n",
        "\n",
        "d24 = D[2-1][4-1]\n",
        "\n",
        "print(f\"La diferencia entre las ventas del 2do y 1er años, del producto 2 en la región 4 fue de {d24} millones de dólares.\")\n",
        "\n",
        "#5. \n",
        "print(\"5. \\nNo es posible determinar la raiz T ya que la matriz A y matriz B son 3x4, pero en cambio la matriz E es 3x6. Por lo tanto no se pueden sumar porque no tienen el mismo orden.\")\n"
      ]
    },
    {
      "cell_type": "markdown",
      "metadata": {
        "id": "MdVDj7xheCLm"
      },
      "source": [
        "# Problema 2"
      ]
    },
    {
      "cell_type": "markdown",
      "metadata": {
        "id": "CGrP79UpeM6k"
      },
      "source": [
        "Una fábrica con sucursales en Japón y China, produce tres tipos de componentes $j$, para cinco modelos de computador $i$. Los costos de producción mensual, en miles de dólares, de ambas sucursales se representan en las matrices $J$ y $C$, respectivamente:\n",
        "\n",
        "<br>\n",
        "\n",
        "\\begin{split}\n",
        "J = \\begin{pmatrix}\n",
        " 100 &  200 &  150  \\\\\n",
        " 120 &  210 &  170  \\\\\n",
        " 112 &  200 &  131  \\\\\n",
        " 124 &  310 &  170  \\\\\n",
        " 136 &  156 &  140  \\\\\n",
        "\\end{pmatrix} \\text{ } C = \\begin{pmatrix}\n",
        " 110 &  190 &  160  \\\\\n",
        " 130 &  220 &  180  \\\\\n",
        " 146 &  190 &  141  \\\\\n",
        " 143 &  312 &  163  \\\\\n",
        " 137 &  116 &  156  \\\\\n",
        "\\end{pmatrix}\n",
        "\\end{split}\n",
        "\n",
        "<br>\n",
        "\n",
        "1. ¿Cuál es el orden de las matrices?\n",
        "2. Inteprete el elemento $j_{21}$ y $c_{12}$ en el contexto del problema.\n",
        "3. Utilizando *Python*, calcule el costo total de producción para cada modelo, considerando ambas sucursales.\n",
        "4. Un trabajador indica que, en la sucursal japonesa, el costo de producción del producto $3$, modelo $4$ de computador, es más alto que en la sucursal china. ¿Tiene razón? Justifique apropiadamente."
      ]
    },
    {
      "cell_type": "code",
      "execution_count": null,
      "metadata": {},
      "outputs": [
        {
          "name": "stdout",
          "output_type": "stream",
          "text": [
            "1. El orden de las matrices es de 5x3\n",
            " J = \n",
            "[[100 200 150]\n",
            " [120 210 170]\n",
            " [112 200 131]\n",
            " [124 310 170]\n",
            " [136 156 140]]\n",
            " C = \n",
            "[[110 190 160]\n",
            " [130 220 180]\n",
            " [146 190 141]\n",
            " [143 312 163]\n",
            " [137 116 156]]\n",
            "\n",
            "2. \n",
            "j21 = Mensualmente en la sucursal de Japón, el segundo componente junto con el primer modelo cuestan 120 miles de dólares\n",
            "c12 = Mensualmente en la sucursal de China, el primer componente junto con el segundo modelo cuestan 190 miles de dólares\n",
            "[450, 500, 443, 604, 432]\n",
            "[450 500 443 604 432]\n",
            "[460 530 477 618 409]\n",
            "El total de producción para cada modelo en Japón es: [450 500 443 604 432]\n",
            "El total de producción para cada modelo en China es: [460 530 477 618 409]\n"
          ]
        }
      ],
      "source": [
        "# j = componentes --> columnas\n",
        "# i = modelos de computador --> filas\n",
        "\n",
        "#1\n",
        "print(\"1. El orden de las matrices es de 5x3\")\n",
        "\n",
        "#2\n",
        "import numpy as np\n",
        "\n",
        "J = np.array([[100, 200, 150], [120, 210, 170], [112, 200, 131], [124, 310, 170], [136, 156, 140]])\n",
        "C = np.array([[110, 190, 160], [130, 220, 180], [146, 190, 141], [143, 312, 163], [137, 116, 156]])\n",
        "\n",
        "print(f\" J = \\n{J}\")\n",
        "print(f\" C = \\n{C}\")\n",
        "\n",
        "# j21:\n",
        "#fila 2 --> segundo componente\n",
        "# columna 1 --> 1er modelo\n",
        "\n",
        "print(\"\\n2. \")\n",
        "\n",
        "j21 = J[2-1][1-1]\n",
        "print(f\"j21 = Mensualmente en la sucursal de Japón, el segundo componente junto con el primer modelo cuestan {j21} miles de dólares\")\n",
        "\n",
        "c12 = C[1-1][2-1]\n",
        "print(f\"c12 = Mensualmente en la sucursal de China, el primer componente junto con el segundo modelo cuestan {c12} miles de dólares\")\n",
        "\n",
        "\n",
        "#3. Calcular el costo total de producción para cada modelo (cada modelo tiene 3 componentes) --> sumar cada modelo (fila) con sus 3 componentes\n",
        "\n",
        "#Costo total de producción para cada modelo en Japón\n",
        "\n",
        "# a) Creo una lista vacía que va a contener la suma de las filas\n",
        "total_modelo_J = []\n",
        "\n",
        "# Voy a convertir la matriz en una lista para que no me printee \"[np.int64(450), np.int64(500), np.int64(443), np.int64(604), np.int64(432)]\"\n",
        "J_list = J.tolist()\n",
        "\n",
        "\n",
        "# b) Hago un \"for\" para cada fila (cada fila está dentro de una lista) en la matriz\n",
        "# c) Luego sumaré los valores de cada lista en la matriz (que contienen las filas) y cada suma la agregaré a la lista creada.\n",
        "\n",
        "for modelo in J_list:\n",
        "    total_modelo_J.append(sum(modelo))\n",
        "\n",
        "print(total_modelo_J)\n",
        "\n",
        "\n",
        "total_modelo_J = np.sum(J, axis=1)\n",
        "print(total_modelo_J)\n",
        "\n",
        "#Costo total de producción para cada modelo en China\n",
        "\n",
        "\n",
        "#Para que la matriz sea vea en vértical\n",
        "\n",
        "#1era forma profe\n",
        "\n",
        "sumaC = []\n",
        "for i in range(len(C)):\n",
        "    sumaC.append(sum(C[i]))\n",
        "\n",
        "#Acá me saldrán los resultados con np.int64\n",
        "\n",
        "#Como quitar eso:\n",
        "sumaC = np.array(sumaC)\n",
        "\n",
        "#Para que sea vea en vértical (así sé que son filas)\n",
        "\n",
        "# 2da forma profe\n",
        "#Sumar las filas con numpy\n",
        "sumaC = np.sum(C, axis=1)\n",
        "\n",
        "print(sumaC)\n",
        "\n",
        "\n",
        "#Calcular el costo total de producción para cada modelo (sumar las filas)\n",
        "\n",
        "#Japón\n",
        "total_modelo_J = np.sum(J, axis=1)\n",
        "print(f\"El total de producción para cada modelo en Japón es: {total_modelo_J}\")\n",
        "\n",
        "#China\n",
        "total_modelo_C = np.sum(C, axis=1)\n",
        "print(f\"El total de producción para cada modelo en China es: {total_modelo_C}\")\n",
        "\n",
        "#axis 0 -->  para sumar columnas\n",
        "#axis 1 --> sumar filas\n",
        "\n",
        "\n",
        "#Un trabajador indica que, en la sucursal japonesa, el costo de producción del componente 3, modelo 4 de computador, \n",
        "# es más alto que en la sucursal china. ¿Tiene razón? Justifique apropiadamente.\n",
        "\n",
        "print(f\"4. En Japón sería 170 y en China 163, por lo tanto el trabajador tiene razón.\")\n",
        "\n",
        "\n",
        "\n"
      ]
    },
    {
      "cell_type": "markdown",
      "metadata": {
        "id": "d1kLjxmU8En9"
      },
      "source": [
        "# Problema 3"
      ]
    },
    {
      "cell_type": "markdown",
      "metadata": {
        "id": "kpido2Zy8zg0"
      },
      "source": [
        "La empresa Beta tiene cinco plantas en Chile, y en cada una de ellas fabrica siete productos. El número de unidades del producto $i$ fabricadas en la planta $j$ en una semana está representado en la matriz $C$ en el elemento $c_{ij}$.\n",
        "\n",
        "<br>\n",
        "\n",
        "\\begin{split}\n",
        "C = \\begin{pmatrix}\n",
        " 120 &  200 &  155 &  125  &  230 \\\\\n",
        " 155 &  130 &  110 &  160  &  180 \\\\\n",
        " 140 &  205 &  150 &  125  &  155 \\\\\n",
        " 130 &  120 &  230 &  225  &  125 \\\\\n",
        " 135 &  70  &  190 &  175  &  95  \\\\\n",
        " 110 &  265 &  180 &  230  &  180 \\\\\n",
        " 185 &  85  &  120 &  135  &  150 \\\\\n",
        "\\end{pmatrix}\n",
        "\\end{split}\n",
        "\n",
        "<br>\n",
        "\n",
        "La empresa se expande, creando cinco plantas en Ecuador que producen los mismos siete productos. La producción semanal de esta filial estará representada por una matriz $E$.\n",
        "\n",
        "1. Si se sabe que los volúmenes de producción semanal de la filial en Ecuador son un $20\\%$ menor que en Chile, calcule la matriz $E$ utilizando *Python*.\n",
        "2. Si representamos la producción semanal total de la empresa Beta, considerando ambas filiales, por la matriz $T$, escriba la expresión que calcula cada elemento de la matriz $T$ usando notación matricial.\n",
        "3. Calcule la matriz $T$ utilizando *Python*.\n",
        "4. Interprete los elementos $c_{34}$ y $t_{72}$ en el contexto del problema."
      ]
    },
    {
      "cell_type": "code",
      "execution_count": null,
      "metadata": {},
      "outputs": [
        {
          "name": "stdout",
          "output_type": "stream",
          "text": [
            "La producción total es: [[216. 360. 279. 225. 414.]\n",
            " [279. 234. 198. 288. 324.]\n",
            " [252. 369. 270. 225. 279.]\n",
            " [234. 216. 414. 405. 225.]\n",
            " [243. 126. 342. 315. 171.]\n",
            " [198. 477. 324. 414. 324.]\n",
            " [333. 153. 216. 243. 270.]]\n",
            "En la planta de Chile se fabrican 125 unidades del producto 3 en la planta 4, a la semana\n",
            "En total, se fabrican 153.0 unidades del producto 7 en la planta 2, a la semana (entre ambas plantas)\n"
          ]
        }
      ],
      "source": [
        "# fila --> producto\n",
        "# columnas --> plantas\n",
        "\n",
        "import numpy as np\n",
        "\n",
        "C = np.array([[120, 200, 155, 125, 230],[155, 130, 110, 160, 180],[140, 205, 150, 125, 155],[130, 120, 230, 225, 125], [135, 70, 190, 175, 95], [110, 265, 180, 230, 180],[185,85, 120, 135, 150]])\n",
        "\n",
        "\n",
        "#1\n",
        "#Ecuador = 20% menor que en Chile = 100% - 20% = 80% --> 0.8\n",
        "E = 0.8*C\n",
        "\n",
        "#2 - Total = Chile + Ecuador\n",
        "T = C + E\n",
        "# T = C + E\n",
        "# T --> Tij\n",
        "# C --> Cij\n",
        "# E --> Eij\n",
        "\n",
        "# tij = cij + eij\n",
        "\n",
        "#3 \n",
        "print(f\"La producción total es: {T}\")\n",
        "\n",
        "#4 interpretar c34 y t72\n",
        "\n",
        "c34 = C[3-1][4-1]\n",
        "t72 = T[7-1][2-1]\n",
        "\n",
        "print(f\"En la planta de Chile se fabrican {c34} unidades del producto 3 en la planta 4, a la semana\")\n",
        "print(f\"En total, se fabrican {t72} unidades del producto 7 en la planta 2, a la semana (entre ambas plantas)\")\n"
      ]
    },
    {
      "cell_type": "markdown",
      "metadata": {
        "id": "DZh7JytTJKsb"
      },
      "source": [
        "# Problema 4"
      ]
    },
    {
      "cell_type": "markdown",
      "metadata": {
        "id": "biNp7JeIJU2I"
      },
      "source": [
        "Una empresa que fabrica zapatos tiene dos plantas, una en Valparaíso y la otra en Temuco. La empresa produce zapatos de color negro, blanco y café, tanto para niños, damas como caballeros. La capacidad actual de producción mensual (en miles de pares) para Valparaíso y Temuco, están dadas por las matrices $V$ y $T$, respectivamente. Para ambas matrices, según el orden en que se mencionan, las filas corresponden al color del calzado y las columnas al tipo de persona que utilizará el calzado.\n",
        "\n",
        "<br>\n",
        "\n",
        "\\begin{split}\n",
        "V = \\begin{pmatrix}\n",
        " 30 &  34 &  20  \\\\\n",
        " 45 &  20 &  16  \\\\\n",
        " 14 &  26 &  25  \\\\\n",
        "\\end{pmatrix} \\text{ } T = \\begin{pmatrix}\n",
        " 35 &  30 &  26  \\\\\n",
        " 52 &  25 &  18  \\\\\n",
        " 23 &  24 &  32  \\\\\n",
        "\\end{pmatrix}\n",
        "\\end{split}\n",
        "\n",
        "<br>\n",
        "\n",
        "1. Determine la producción mensual total de ambas plantas, representándola en una matriz $A$. Utilice *Python* para resolver.\n",
        "2. Interprete el elemento $a_{21}$ en el contexto del problema.\n",
        "3. Si para el próximo año se estima que la producción en Valparaíso aumenta en un $30\\%$, mientras que la de Temuco se reduce en un $10\\%$, represente la nueva producción total en la matriz $B$.\n",
        "4. Interprete el elemento $b_{13}$ en el contexto del problema."
      ]
    },
    {
      "cell_type": "code",
      "execution_count": 25,
      "metadata": {},
      "outputs": [
        {
          "name": "stdout",
          "output_type": "stream",
          "text": [
            "La producción mensual de ambas plantas es [[65 64 46]\n",
            " [97 45 34]\n",
            " [37 50 57]]\n",
            "La producción mensual de ambas plantas del zapato de color blanco para niños es de 97 miles de pares. \n",
            "3. La nueva producción total de la matriz B es: \n",
            "[[ 70.5  71.2  49.4]\n",
            " [105.3  48.5  37. ]\n",
            " [ 38.9  55.4  61.3]]\n",
            "La producción mensual de ambas plantas para el próximo del zapato de color negro para caballeros será de 49.4 miles de pares.\n"
          ]
        }
      ],
      "source": [
        "# Capacidad actual de producción mensual (en miles de pares)\n",
        "#filas --> color calzado\n",
        "#columnas --> tipo de persona que utilizará el calzado\n",
        "\n",
        "import numpy as np\n",
        "\n",
        "V = np.array([[30, 34, 20], [45, 20, 16], [14, 26, 25]])\n",
        "T = np.array([[35, 30, 26], [52, 25, 18], [23, 24, 32]])\n",
        "\n",
        "#1\n",
        "A = V + T\n",
        "\n",
        "print(f\"La producción mensual de ambas plantas es {A}\")\n",
        "\n",
        "#2. Interprete a21\n",
        "a21 = A[2-1][1-1]\n",
        "print(f\"La producción mensual de ambas plantas del zapato de color blanco para niños es de {a21} miles de pares. \")\n",
        "\n",
        "#3\n",
        "V1 = 1.30 * V\n",
        "T1 = 0.9* T\n",
        "\n",
        "B = V1 + T1\n",
        "print(f\"3. La nueva producción total de la matriz B es: \\n{B}\")\n",
        "\n",
        "\n",
        "#4. Interpreta b13\n",
        "b13 = B[1-1][3-1]\n",
        "print(f\"La producción mensual de ambas plantas para el próximo del zapato de color negro para caballeros será de {round(b13,1)} miles de pares.\")\n"
      ]
    },
    {
      "cell_type": "markdown",
      "metadata": {
        "id": "eqY0UgBhQ1PL"
      },
      "source": [
        "# Problema 5"
      ]
    },
    {
      "cell_type": "markdown",
      "metadata": {
        "id": "6W2fcVlyU2Ze"
      },
      "source": [
        "Genere una matriz $M$ de orden $8 \\times 9$ donde cada término de la matriz está definido por:\n",
        "\n",
        "$$m_{ij} = 8i + 12j$$\n",
        "\n",
        "y calcule su transpuesta."
      ]
    },
    {
      "cell_type": "code",
      "execution_count": null,
      "metadata": {},
      "outputs": [
        {
          "name": "stdout",
          "output_type": "stream",
          "text": [
            "Ejemplo de arriba \n",
            "[[20. 32.]\n",
            " [28. 40.]]\n",
            "\n",
            "[[ 20.  32.  44.  56.  68.  80.  92. 104. 116.]\n",
            " [ 28.  40.  52.  64.  76.  88. 100. 112. 124.]\n",
            " [ 36.  48.  60.  72.  84.  96. 108. 120. 132.]\n",
            " [ 44.  56.  68.  80.  92. 104. 116. 128. 140.]\n",
            " [ 52.  64.  76.  88. 100. 112. 124. 136. 148.]\n",
            " [ 60.  72.  84.  96. 108. 120. 132. 144. 156.]\n",
            " [ 68.  80.  92. 104. 116. 128. 140. 152. 164.]\n",
            " [ 76.  88. 100. 112. 124. 136. 148. 160. 172.]]\n",
            "[[ 20.  28.  36.  44.  52.  60.  68.  76.]\n",
            " [ 32.  40.  48.  56.  64.  72.  80.  88.]\n",
            " [ 44.  52.  60.  68.  76.  84.  92. 100.]\n",
            " [ 56.  64.  72.  80.  88.  96. 104. 112.]\n",
            " [ 68.  76.  84.  92. 100. 108. 116. 124.]\n",
            " [ 80.  88.  96. 104. 112. 120. 128. 136.]\n",
            " [ 92. 100. 108. 116. 124. 132. 140. 148.]\n",
            " [104. 112. 120. 128. 136. 144. 152. 160.]\n",
            " [116. 124. 132. 140. 148. 156. 164. 172.]]\n"
          ]
        }
      ],
      "source": [
        "# mmij = 8i + 12j (en matriz 2x2)\n",
        "# (m11 m12) = (8*1 + 12*1)= 28  ( 8*1 + 12*2) = 32)\n",
        "# (m21 m22) = (8*2 + 12*1)= 28  (8*2 + 12*2) =  40)\n",
        "\n",
        "import numpy as np\n",
        "\n",
        "#Python comienza desde 0 y se sumará 1 a las variables\n",
        "EJ = np.fromfunction(lambda i,j: 8*(i+1) + 12*(j+1), (2,2))\n",
        "print(f\"Ejemplo de arriba \\n{EJ}\\n\")\n",
        "\n",
        "M = np.fromfunction(lambda i,j: 8*(i+1) + 12*(j+1), (8,9))\n",
        "print(M)\n",
        "\n",
        "#Calcule su transpuesta\n",
        "#Transpuesta = matriz al revés (solo se le agrega \".T\")\n",
        "# Ej al tener una matriz 3x2, transpuesta será 2x3\n",
        "\n",
        "M = M.T\n",
        "print(M)"
      ]
    },
    {
      "cell_type": "markdown",
      "metadata": {
        "id": "GzG5888JV5Yc"
      },
      "source": [
        "# Problema 6"
      ]
    },
    {
      "cell_type": "markdown",
      "metadata": {
        "id": "dHbVKHuLV71S"
      },
      "source": [
        "Genere dos matrices:\n",
        "\n",
        "*   Una matriz $A$ de orden $5 \\times 7$, con $a_{ij} = i \\cdot j.$\n",
        "*   Una matriz $B$ de orden $7 \\times 5$, con $b_{ij} = 15i - 2j.$\n",
        "\n",
        "y calcule $C = A^{T} + \\dfrac{1}{2}B$.\n",
        "\n"
      ]
    },
    {
      "cell_type": "code",
      "execution_count": 41,
      "metadata": {},
      "outputs": [
        {
          "name": "stdout",
          "output_type": "stream",
          "text": [
            "[[ 1.  2.  3.  4.  5.  6.  7.]\n",
            " [ 2.  4.  6.  8. 10. 12. 14.]\n",
            " [ 3.  6.  9. 12. 15. 18. 21.]\n",
            " [ 4.  8. 12. 16. 20. 24. 28.]\n",
            " [ 5. 10. 15. 20. 25. 30. 35.]]\n",
            "[[ 13.  11.   9.   7.   5.]\n",
            " [ 28.  26.  24.  22.  20.]\n",
            " [ 43.  41.  39.  37.  35.]\n",
            " [ 58.  56.  54.  52.  50.]\n",
            " [ 73.  71.  69.  67.  65.]\n",
            " [ 88.  86.  84.  82.  80.]\n",
            " [103. 101.  99.  97.  95.]]\n",
            "\n",
            "C:\n",
            "[[ 7.5  7.5  7.5  7.5  7.5]\n",
            " [16.  17.  18.  19.  20. ]\n",
            " [24.5 26.5 28.5 30.5 32.5]\n",
            " [33.  36.  39.  42.  45. ]\n",
            " [41.5 45.5 49.5 53.5 57.5]\n",
            " [50.  55.  60.  65.  70. ]\n",
            " [58.5 64.5 70.5 76.5 82.5]]\n"
          ]
        }
      ],
      "source": [
        "import numpy as np\n",
        "A = np.fromfunction(lambda i,j: (i+1)*(j+1), (5,7))\n",
        "B = np.fromfunction(lambda i,j: 15*(i+1)-2*(j+1), (7,5))\n",
        "\n",
        "print(A)\n",
        "print(B)\n",
        "\n",
        "#C\n",
        "\n",
        "C = A.T + 1/2*B\n",
        "\n",
        "print(f\"\\nC:\\n{C}\")\n"
      ]
    },
    {
      "cell_type": "markdown",
      "metadata": {
        "id": "HZJfudDGXjic"
      },
      "source": [
        "# Problema 7"
      ]
    },
    {
      "cell_type": "markdown",
      "metadata": {
        "id": "Z-C9zGeKYQ11"
      },
      "source": [
        "Una red de sensores recoge datos de temperatura ($°C$), humedad (porcentaje) y presión (hPa) en cinco días distintos (de lunes a viernes). Los datos medidos se muestran en la matriz $D$:\n",
        "\n",
        "<br>\n",
        "\n",
        "\\begin{equation*}\n",
        "\\begin{matrix}\n",
        "& \\begin{matrix}\n",
        " & Lu  \\ \\ &Ma \\ \\ &Mi \\ \\ & Ju \\ \\ &Vi\n",
        "\\end{matrix} \\\\\n",
        "&D = \\begin{pmatrix}\n",
        "20    &  28    &  22    &  26     &  24   \\\\\n",
        "52    &  57    &  56    &  54     &  58   \\\\\n",
        "1.066 &  1.068 &  1.066 &  1.064  &  1.068 \\\\\n",
        "\\end{pmatrix} & \\ \\begin{matrix}\n",
        "Cº\\\\\n",
        "\\% \\\\\n",
        "hPa\n",
        "\\end{matrix}\\\\\n",
        "\\end{matrix}\n",
        "\\end{equation*}\n",
        "\n",
        "<br>\n",
        "\n",
        "Se sabe que por un error de calibración de los sensores, las medidas registradas deberían ser un $5\\%$ menores que las registradas.\n",
        "\n",
        "1. Calcule en una matriz $S$ los valores correctos de temperatura, humedad y presión. Utilice *Python* para calcular.\n",
        "2. Obtenga la matriz $S^{T}$.\n",
        "3. Interprete los elementos $s_{24}$ y $s_{31}^{T}$.\n"
      ]
    },
    {
      "cell_type": "code",
      "execution_count": 50,
      "metadata": {},
      "outputs": [
        {
          "name": "stdout",
          "output_type": "stream",
          "text": [
            "1. \n",
            "[[  19.     26.6    20.9    24.7    22.8 ]\n",
            " [  49.4    54.15   53.2    51.3    55.1 ]\n",
            " [1012.7  1014.6  1012.7  1010.8  1014.6 ]]\n",
            "\n",
            "2. La matriz S transpuesta es: \n",
            "[[  19.     49.4  1012.7 ]\n",
            " [  26.6    54.15 1014.6 ]\n",
            " [  20.9    53.2  1012.7 ]\n",
            " [  24.7    51.3  1010.8 ]\n",
            " [  22.8    55.1  1014.6 ]]\n",
            "\n",
            "3. \n",
            "s24: El día jueves hay húmedad de 51.3%\n",
            "st31: El día miércoles hay una temperatura de 20.9°C.\n"
          ]
        }
      ],
      "source": [
        "D = np.array([[20, 28, 22, 26, 24], [52, 57, 56, 54, 58], [1066, 1068, 1066, 1064, 1068]])\n",
        "S = D * 0.95\n",
        "print(f\"1. \\n{S}\\n\")\n",
        "\n",
        "#2\n",
        "print(f\"2. La matriz S transpuesta es: \\n{S.T}\\n\")\n",
        "\n",
        "#3. Interpreta s24 y ST31\n",
        "\n",
        "s24 = S[2-1][4-1]\n",
        "st31 = S.T[3-1][1-1]\n",
        "\n",
        "print(f\"3. \\ns24: El día jueves hay húmedad de {s24}%\")\n",
        "print(f\"st31: El día miércoles hay una temperatura de {st31}°C.\")\n",
        "\n",
        "\n"
      ]
    },
    {
      "cell_type": "markdown",
      "metadata": {
        "id": "9py029xQlSq6"
      },
      "source": [
        "# Problema 8"
      ]
    },
    {
      "cell_type": "markdown",
      "metadata": {
        "id": "icNvmShQmtrx"
      },
      "source": [
        "Una empresa tecnológica vende software y hardware en tres productos: $P_{1}$, $P_{2}$ y $P_{3}$, en cuatro zonas de la capital: norte, sur, este y oeste. Las ventas del mes, en millones de pesos, están registradas en las matrices $S$ y $H$, para software y hardware respectivamente.\n",
        "\n",
        "<br>\n",
        "\n",
        "\\begin{split}\n",
        "S = \\begin{pmatrix}\n",
        " 260 &  480 &  180  &  90  \\\\\n",
        " 320 &  440 &  250  &  280 \\\\\n",
        " 240 &  360 &  380  &  250  \\\\\n",
        "\\end{pmatrix} \\text{ } H = \\begin{pmatrix}\n",
        " 360 &  250 &  300  &  250  \\\\\n",
        " 450 &  500 &  350  &  380 \\\\\n",
        " 290 &  300 &  460  &  400  \\\\\n",
        "\\end{pmatrix}\n",
        "\\end{split}\n",
        "\n",
        "<br>\n",
        "\n",
        "1. Calcule en la matriz $T$, del total de ventas de la empresa tecnológica.\n",
        "2. Un trabajador indica que este mes, la sucursal de la zona sur recaudó más por la venta hardware que software, ¿es correcta su afirmación?\n",
        "3. Debido al black friday se espera que el siguiente mes, las ventas de software aumenten un $7\\%$ y las de hardware aumenten un $3\\%$ respecto al mes actual. Encuentra en total de ventas esperadas para el siguiente mes y almacénalo en la matriz $M$. Utiliza *Python* para realizar los cálculos.\n",
        "4. Interpreta los elementos $t_{24}$ y $m_{31}$ en el contexto del problema.\n",
        "5. Calcula la matriz $M^{T}$ e interpreta el elemento $m_{41}^{T}$ en el contexto del problema.\n"
      ]
    },
    {
      "cell_type": "code",
      "execution_count": null,
      "metadata": {},
      "outputs": [
        {
          "name": "stdout",
          "output_type": "stream",
          "text": [
            "1.El total de ventas de la empresa tecnológica es: \n",
            "[[620 730 480 340]\n",
            " [770 940 600 660]\n",
            " [530 660 840 650]]\n",
            "Suma de los productos software por zona: [ 820 1280  810  620]\n",
            "Suma de los productos hardware por zona: [1100 1050 1110 1030]\n"
          ]
        }
      ],
      "source": [
        "import numpy as np\n",
        "\n",
        "S = np.array([[260, 480, 180, 90], [320, 440, 250, 280], [240, 360, 380, 250]])\n",
        "H = np.array([[360, 250, 300, 250], [450, 500, 350, 380], [290, 300, 460, 400]])\n",
        "\n",
        "#1\n",
        "T = S + H\n",
        "print(f\"1.El total de ventas de la empresa tecnológica es: \\n{T}\")\n",
        "\n",
        "#2. Debo sumar los productos de la zona sur --> sumar filas\n",
        "#axis 0 -->  para sumar columnas\n",
        "#axis 1 --> sumar filas\n",
        "\n",
        "#Suma de los productos Software por zona \n",
        "S_zona = np.sum(S, axis=0)\n",
        "print(f\"Suma de los productos software por zona: {S_zona}\")\n",
        "\n",
        "#Suma de los productos Hardware por zona\n",
        "H_zona = np.sum(H, axis=0)\n",
        "print(f\"Suma de los productos hardware por zona: {H_zona}\")\n",
        "\n",
        "print(\"Las ventas por software de la zona sur fueron de 1280, y de hardware fueron de 1050. Por lo tanto la afirmación es falsa, se recaudó más por software.\")\n",
        "\n",
        "\n",
        "\n"
      ]
    }
  ],
  "metadata": {
    "colab": {
      "provenance": [],
      "toc_visible": true
    },
    "kernelspec": {
      "display_name": "Python 3",
      "name": "python3"
    },
    "language_info": {
      "codemirror_mode": {
        "name": "ipython",
        "version": 3
      },
      "file_extension": ".py",
      "mimetype": "text/x-python",
      "name": "python",
      "nbconvert_exporter": "python",
      "pygments_lexer": "ipython3",
      "version": "3.13.9"
    }
  },
  "nbformat": 4,
  "nbformat_minor": 0
}
