{
 "cells": [
  {
   "cell_type": "markdown",
   "metadata": {},
   "source": [
    "# Lluvias torrenciales, un desafío para las ciudades — ¿podrás evitar el diluvio?"
   ]
  },
  {
   "cell_type": "markdown",
   "metadata": {},
   "source": [
    "## Instrucciones\n",
    "\n",
    "1. Lea detenidamente el enunciado y las preguntas.\n",
    "2. Escriba sus desarrollos a continuación de la celda que dice “Desarrollo”.\n",
    "3. Sus respuestas deben estar justificadas y su desarrollo debe ser ordenado y claro.\n",
    "4. Se sugiere usar una celda de texto (markdown) con el número de la pregunta, una o más celdas de código para el desarrollo y luego una celda de texto (markdown) para escribir la respuesta.\n",
    "5. Guarde su progreso antes de cerrar el programa.\n",
    "6. Se prohíbe el uso de IA."
   ]
  },
  {
   "cell_type": "markdown",
   "metadata": {},
   "source": [
    "## Enunciado"
   ]
  },
  {
   "cell_type": "markdown",
   "metadata": {},
   "source": [
    "En época invernal, es común que algunas ciudades experimenten lluvias intensas, lo que puede poner a prueba su infraestructura. Este año, ciudades como Valparaíso, Santiago y Concepción han registrado precipitaciones que requieren atención especial.\n",
    "\n",
    "\n",
    "Durante un día de lluvia podemos representar la cantidad de agua acumulada, en milímetros (mm), en cada ciudad con respecto al tiempo transcurrido en horas (t) desde las 6 de la mañana, a través de las siguientes funciones cuadráticas:\n",
    "\n",
    "**Valparaíso**: $$V(t)=0,8t^{2}+12,8t+37$$\n",
    "\n",
    "**Santiago**: $$S(t) =t^{2}+16,5t+30$$\n",
    "\n",
    "**Concepción**: $$C(t) = 1,2t^{2}+19,2t+25$$\n",
    "\n",
    "Se sabe que los sistemas de alcantarillado de las ciudades no pueden acumular más de 100 mm de agua. Si se supera este umbral, será necesario enviar equipos de emergencia para evitar inundaciones.\n",
    "\n",
    "Con ayuda de Python responde las siguientes preguntas:\n",
    "\n",
    "1. ¿Cuál es el valor de $t$ a las 07:30 de la mañana? ¿Cuál sería la cantidad de agua acumulada en Concepción a las 07:30 de la mañana?\n",
    "1. En un mismo grafico, trace las tres funciones considerando que se pronostican 12 horas de lluvia.\n",
    "1. ¿Cuál será la primera ciudad en requerir la ayuda de los equipos de emergencia?\n",
    "1. Entre las 3 y 5 de la tarde, ¿en qué ciudad cayó más agua?"
   ]
  },
  {
   "cell_type": "markdown",
   "metadata": {},
   "source": [
    "## Desarrollo\n"
   ]
  },
  {
   "cell_type": "code",
   "execution_count": null,
   "metadata": {},
   "outputs": [
    {
     "name": "stdout",
     "output_type": "stream",
     "text": [
      "56.5\n",
      "Valparaíso\n",
      "245.53333333333333\n",
      "Santiago\n",
      "295.6666666666667\n",
      "Concepción\n",
      "337.8\n"
     ]
    }
   ],
   "source": [
    "import matplotlib.pyplot as plt\n",
    "import numpy as np\n",
    "\n",
    "\n",
    "\n",
    "\n",
    "def V(t):\n",
    "    V = 0.8*(t**2)+12.8*t+37\n",
    "    return V\n",
    "\n",
    "\n",
    "def S(t):\n",
    "    S=t**2+16.5*t+30\n",
    "    return S\n",
    "\n",
    "\n",
    "def C(t):\n",
    "    C=1.2*(t**2)+19.2*t+25\n",
    "    return C\n",
    "\n",
    "\n",
    "# crear gráfico\n",
    "x1= np.arange(0, 13, 1)\n",
    "x2= np.arange(0, 13, 1)\n",
    "x3= np.arange(0, 13, 1)\n",
    "plt.plot(x1, V(x1), label=\"Valparaiso\")\n",
    "plt.plot(x2, S(x2), label=\"Santiago\")\n",
    "plt.plot(x3, C(x3), label=\"Concepcion\")\n",
    "plt.title(\"Agua Acumulada en Funcion del tiempo transcurrido\")\n",
    "plt.xlabel(\"Tiempo (horas)\") #nombre de valores\n",
    "plt.ylabel(\"Agua acumulada (mm)\")\n",
    "\n",
    "\n",
    "#modificar ejes:\n",
    "ax=plt.gca()\n",
    "ax.spines[[\"left\", \"bottom\"]].set_position((\"data\", 0))\n",
    "ax.spines[[\"right\", \"top\"]].set_visible((False))\n",
    "\n",
    "\n",
    "\n",
    "\n",
    "plt.grid() #recuadros\n",
    "plt.legend() #Nombre de la linea (eje)\n",
    "plt.show() #Llamada al gráfico\n",
    "\n",
    "\n",
    "\n",
    "\n",
    "\n",
    "def V(t):\n",
    "    V = 0.8*(t**2)+12.8*t+37\n",
    "    return V\n",
    "\n",
    "\n",
    "def S(t):\n",
    "    S=t**2+16.5*t+30\n",
    "    return S\n",
    "\n",
    "\n",
    "def C(t):\n",
    "    C=1.2*(t**2)+19.2*t+25\n",
    "    return C\n",
    "\n",
    "\n",
    "\n",
    "\n",
    "print(f\"a las 3pm cayó {S(9)}mm en santiago, {C(9)}mm en concepcion y { V(9)}mm en Valparaiso\")\n",
    "#print(f\"{S(10)} {C(10)} { V(10)}\")\n",
    "print(f\"a las 5pm cayó {S(11)}mm en santiago, {C(11)}mm en concepcion y { V(11)}mm en Valparaiso\")\n",
    "\n",
    "\n",
    "print(f\"en base al Gráfico y a los resultados de las funciones podemos confirmar que en CONCEPCION cayó mas agua entre las 3pm y las 5pm, con un total de {round(C(11)-C(9),1)}mm\")\n"
   ]
  }
 ],
 "metadata": {
  "kernelspec": {
   "display_name": "Python 3",
   "language": "python",
   "name": "python3"
  },
  "language_info": {
   "codemirror_mode": {
    "name": "ipython",
    "version": 3
   },
   "file_extension": ".py",
   "mimetype": "text/x-python",
   "name": "python",
   "nbconvert_exporter": "python",
   "pygments_lexer": "ipython3",
   "version": "3.12.0"
  }
 },
 "nbformat": 4,
 "nbformat_minor": 2
}
