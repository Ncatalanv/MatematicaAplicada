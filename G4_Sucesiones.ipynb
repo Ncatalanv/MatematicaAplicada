{
  "cells": [
    {
      "cell_type": "markdown",
      "metadata": {
        "id": "Jsg7AmugfdN3"
      },
      "source": [
        "# Problema 1"
      ]
    },
    {
      "cell_type": "markdown",
      "metadata": {
        "id": "_IzpNklvfgKe"
      },
      "source": [
        "Considere la sucesión $a_{n} = 3n^{2} + 7$. Por medio de un código en *Python* despliega en pantalla:\n",
        "\n",
        "1. Los primeros $5$ términos.\n",
        "2. Los $5$ términos que vienen inmediatamente después del decimoquinto término."
      ]
    },
    {
      "cell_type": "code",
      "execution_count": 1,
      "metadata": {},
      "outputs": [
        {
          "name": "stdout",
          "output_type": "stream",
          "text": [
            "1. \n",
            "a_1 = 10\n",
            "a_2 = 19\n",
            "a_3 = 34\n",
            "a_4 = 55\n",
            "a_5 = 82\n",
            "[10, 19, 34, 55, 82]\n",
            " \n",
            "2.\n",
            "a_16 = 775\n",
            "a_17 = 874\n",
            "a_18 = 979\n",
            "a_19 = 1090\n",
            "a_20 = 1207\n"
          ]
        }
      ],
      "source": [
        "def a(n):\n",
        "    return 3*n**2+7\n",
        "\n",
        "#Primeros 5 términos:\n",
        "#En matemáticas comenzamos por el 1 (números naturales)\n",
        "\n",
        "#Primera Forma\n",
        "print(\"1. \")\n",
        "for i in range(1,6):\n",
        "    print(f\"a_{i} = {a(i)}\")\n",
        "\n",
        "\n",
        "#Segunda Forma\n",
        "L = []\n",
        "\n",
        "for i in range(1,6):\n",
        "    L.append(a(i))\n",
        "\n",
        "print(L)\n",
        "\n",
        "#2. 5 términos que vienen después del decimoquinto\n",
        "print(\" \")\n",
        "print(\"2.\")\n",
        "for i in range(16,21):\n",
        "    print(f\"a_{i} = {a(i)}\")"
      ]
    },
    {
      "cell_type": "code",
      "execution_count": 13,
      "metadata": {},
      "outputs": [
        {
          "name": "stdout",
          "output_type": "stream",
          "text": [
            "34\n",
            "775\n",
            "874\n",
            "979\n",
            "1090\n",
            "1207\n"
          ]
        }
      ],
      "source": [
        "def A(n):\n",
        "    A = 3*n**2+7\n",
        "    return A\n",
        "\n",
        "print(A(3))\n",
        "\n",
        "for i in range(16,21):\n",
        "    print(A(i))"
      ]
    },
    {
      "cell_type": "markdown",
      "metadata": {
        "id": "MpHLoYWfk97E"
      },
      "source": [
        "# Problema 2"
      ]
    },
    {
      "cell_type": "markdown",
      "metadata": {
        "id": "TdrPqS7Mk_l0"
      },
      "source": [
        "Considere la sucesión $g_{n} = 5n^{3}$. Implemente un código en *Python* que muestre en pantalla:\n",
        "\n",
        "1. Los primeros $4$ términos de la sucesión.\n",
        "2. Los $4$ términos que vienen inmediatamente después del octavo término.\n",
        "3. Determinar si el término $40.000$ pertenece a la sucesión. Si es así, indicar en qué posición se encuentra."
      ]
    },
    {
      "cell_type": "code",
      "execution_count": 20,
      "metadata": {},
      "outputs": [
        {
          "name": "stdout",
          "output_type": "stream",
          "text": [
            "5\n",
            "3645\n",
            "5000\n",
            "6655\n",
            "8640\n",
            "40\n",
            "3645\n",
            "5000\n",
            "6655\n",
            "8640\n",
            "135\n",
            "3645\n",
            "5000\n",
            "6655\n",
            "8640\n",
            "320\n",
            "3645\n",
            "5000\n",
            "6655\n",
            "8640\n",
            "20\n",
            "40000\n"
          ]
        }
      ],
      "source": [
        "def G(n):\n",
        "    G=5*n**3\n",
        "    return G\n",
        "\n",
        "for i in range(1,5):\n",
        "    print(G(i))\n",
        "\n",
        "    for i in range(9,13):\n",
        "        print(G(i))\n",
        "\n",
        "\n",
        "import sympy as sp\n",
        "\n",
        "x = sp.Symbol(\"x\")\n",
        "ecua= G(x) - 40000\n",
        "sol =sp.solve(ecua,x)\n",
        "\n",
        "print(sol[0])\n",
        "\n",
        "print(G(20))"
      ]
    },
    {
      "cell_type": "code",
      "execution_count": null,
      "metadata": {},
      "outputs": [
        {
          "name": "stdout",
          "output_type": "stream",
          "text": [
            " 1. [5, 40, 135, 320]\n",
            "2. [3645, 5000, 6655, 8640]\n",
            "[20, -10 - 10*sqrt(3)*I, -10 + 10*sqrt(3)*I]\n",
            "40000\n",
            "Si, se encuentra en la posición 20.\n"
          ]
        }
      ],
      "source": [
        "def g(n):\n",
        "    return 5*(n**3)\n",
        "\n",
        "L1 = []\n",
        "for i in range(1,5):\n",
        "    L1.append(g(i))\n",
        "\n",
        "print(f\" 1. {L1}\")\n",
        "\n",
        "L2 = []\n",
        "for i in range(9,13):\n",
        "    L2.append(g(i))\n",
        "\n",
        "print(f\"2. {L2}\")\n",
        "\n",
        "#3.\n",
        "import sympy as sp\n",
        "\n",
        "x = sp.Symbol(\"x\")\n",
        "ecuacion = g(x)-40000\n",
        "solucion = sp.solve(ecuacion,x)\n",
        "print(solucion)\n",
        "print(g(20))\n",
        "print(f\"Si, se encuentra en la posición 20.\")\n",
        "\n"
      ]
    },
    {
      "cell_type": "markdown",
      "metadata": {
        "id": "7GDU-KDLuR7i"
      },
      "source": [
        "# Problema 3"
      ]
    },
    {
      "cell_type": "markdown",
      "metadata": {
        "id": "GG1duXd1uU6Z"
      },
      "source": [
        "La sucesión de Fibonacci es una serie de números en la que cada número, desde el tercero en adelante, es la suma de los dos anteriores. Comienza con el $0$ y $1$, tal como se observa a continuación:\n",
        "\n",
        "$$0, 1, 1, 2, 3, 5, 8, 13, ...$$\n",
        "\n",
        "Formalmente, la sucesión se define de la siguiente manera:\n",
        "\n",
        "\\begin{split}\n",
        "F(0) &= 0\\\\\n",
        "F(1) &= 1\\\\\n",
        "F(n) &= F(n - 1) + F(n - 2), \\ \\text{ para $n \\geq 2$}\n",
        "\\end{split}\n",
        "\n",
        "Esta sucesión se utiliza en una variedad de contextos en informática y algoritmos debido a sus propiedades matemáticas y patrones.\n",
        "\n",
        "1. Implementa un código en *Python* que muestre en pantalla los primeros $20$ términos de la sucesión.\n",
        "2. Calcula, utilizando un ciclo *for*, la suma de los primeros $30$ términos de la sucesión de Fibonacci."
      ]
    },
    {
      "cell_type": "code",
      "execution_count": null,
      "metadata": {},
      "outputs": [
        {
          "name": "stdout",
          "output_type": "stream",
          "text": [
            "0\n",
            "1\n",
            "3\n",
            "6\n",
            "10\n",
            "15\n",
            "21\n",
            "28\n",
            "36\n",
            "45\n",
            "55\n",
            "66\n",
            "78\n",
            "91\n",
            "105\n",
            "120\n",
            "136\n",
            "153\n",
            "171\n",
            "190\n",
            "210\n"
          ]
        }
      ],
      "source": [
        "ecuacion = 0\n",
        "for i in range(0, 21):\n",
        "    ecuacion += i\n",
        "    print(ecuacion)"
      ]
    },
    {
      "cell_type": "markdown",
      "metadata": {
        "id": "OFL3b7nt8Rq_"
      },
      "source": [
        "# Problema 4"
      ]
    },
    {
      "cell_type": "markdown",
      "metadata": {
        "id": "j5QlZQwJSDsZ"
      },
      "source": [
        "Implementa un código que permita guardar en una lista la sucesión de los primeros $n$ números pares, con $n \\geq 1$. Luego, determina:\n",
        "\n",
        "1. ¿Cuál es el valor del décimo término?\n",
        "2. Calcula, utilizando un ciclo *for*, la suma de los primeros $100$ números pares.\n",
        "3. ¿En qué posición se encuentra el número $58$ dentro de la sucesión?"
      ]
    },
    {
      "cell_type": "code",
      "execution_count": null,
      "metadata": {},
      "outputs": [
        {
          "name": "stdout",
          "output_type": "stream",
          "text": [
            "1. \n",
            "20\n",
            "\n",
            "2. \n",
            "\n",
            "Primera forma:\n",
            "2\n",
            "6\n",
            "12\n",
            "20\n",
            "30\n",
            "42\n",
            "56\n",
            "72\n",
            "90\n",
            "110\n",
            "132\n",
            "156\n",
            "182\n",
            "210\n",
            "240\n",
            "272\n",
            "306\n",
            "342\n",
            "380\n",
            "420\n",
            "462\n",
            "506\n",
            "552\n",
            "600\n",
            "650\n",
            "702\n",
            "756\n",
            "812\n",
            "870\n",
            "930\n",
            "992\n",
            "1056\n",
            "1122\n",
            "1190\n",
            "1260\n",
            "1332\n",
            "1406\n",
            "1482\n",
            "1560\n",
            "1640\n",
            "1722\n",
            "1806\n",
            "1892\n",
            "1980\n",
            "2070\n",
            "2162\n",
            "2256\n",
            "2352\n",
            "2450\n",
            "2550\n",
            "2652\n",
            "2756\n",
            "2862\n",
            "2970\n",
            "3080\n",
            "3192\n",
            "3306\n",
            "3422\n",
            "3540\n",
            "3660\n",
            "3782\n",
            "3906\n",
            "4032\n",
            "4160\n",
            "4290\n",
            "4422\n",
            "4556\n",
            "4692\n",
            "4830\n",
            "4970\n",
            "5112\n",
            "5256\n",
            "5402\n",
            "5550\n",
            "5700\n",
            "5852\n",
            "6006\n",
            "6162\n",
            "6320\n",
            "6480\n",
            "6642\n",
            "6806\n",
            "6972\n",
            "7140\n",
            "7310\n",
            "7482\n",
            "7656\n",
            "7832\n",
            "8010\n",
            "8190\n",
            "8372\n",
            "8556\n",
            "8742\n",
            "8930\n",
            "9120\n",
            "9312\n",
            "9506\n",
            "9702\n",
            "9900\n",
            "10100\n",
            "\n",
            "Segunda forma: \n",
            " 10100\n",
            "[29]\n",
            "\n",
            "3. \n",
            "El número 58 se encuentra en la posición 29\n"
          ]
        }
      ],
      "source": [
        "def f(n):\n",
        "    return 2*n\n",
        "\n",
        "#1.\n",
        "print(\"1. \")\n",
        "print(f(10))\n",
        "\n",
        "#2.\n",
        "print(\"\\n2. \")\n",
        "\n",
        "#Primera forma\n",
        "print(\"\\nPrimera forma:\")\n",
        "suma = 0\n",
        "for i in range(1, 101):\n",
        "    suma += f(i)\n",
        "    print(suma)\n",
        "\n",
        "#Segunda forma\n",
        "lista = []\n",
        "for i in range(1,101):\n",
        "    lista.append(f(i))\n",
        "\n",
        "suma_lista = sum(lista)\n",
        "print(f\"\\nSegunda forma: \\n {suma_lista}\")\n",
        "\n",
        "x = sp.Symbol(\"x\")\n",
        "ecuacion = f(x)-58\n",
        "solucion = sp.solve(ecuacion,x)\n",
        "print(solucion)\n",
        "print(f\"\\n3. \\nEl número 58 se encuentra en la posición {solucion[0]}\")"
      ]
    },
    {
      "cell_type": "code",
      "execution_count": 28,
      "metadata": {},
      "outputs": [
        {
          "name": "stdout",
          "output_type": "stream",
          "text": [
            "10100\n",
            "[2, 4, 6, 8, 10, 12, 14, 16, 18, 20]\n",
            "[29]\n",
            "58\n"
          ]
        }
      ],
      "source": [
        "\n",
        "def f(n):\n",
        "    f = 2*n\n",
        "    return f\n",
        "total = 0\n",
        "for i in range(1,101):\n",
        "    total += f(i)\n",
        "print(total)\n",
        "\n",
        "print(lista)\n",
        "\n",
        "import sympy as sp\n",
        "\n",
        "n = sp.Symbol(\"n\")\n",
        "ecuu= f(n) - 58\n",
        "soll =sp.solve(ecuu,n) \n",
        "\n",
        "print(soll)\n",
        "print(f(29))\n",
        "        \n"
      ]
    },
    {
      "cell_type": "markdown",
      "metadata": {
        "id": "gBcDYpK2Z3GT"
      },
      "source": [
        "# Problema 5"
      ]
    },
    {
      "cell_type": "markdown",
      "metadata": {
        "id": "eS3i68R4Z6YQ"
      },
      "source": [
        "Un nuevo software tiene $500$ usuarios y se espera que el número de usuarios crezca un $15\\%$ respecto al mes anterior. Considere que $b_{n}$ es el número de usuarios transcurridos $n$ meses.\n",
        "\n",
        "1. Calcula cuántos usuarios tendrá el software al cabo de tres meses. ¿Y al cabo de seis meses?\n",
        "2. Mediante un código en *Pyhton* muestra la cantidad de usuarios que tendrá el software cada mes durante el primer año.\n",
        "2. ¿Cuántos usuarios tendrá en total el software luego de un año? Utilice ciclos *for* para calcular."
      ]
    },
    {
      "cell_type": "code",
      "execution_count": 52,
      "metadata": {},
      "outputs": [
        {
          "name": "stdout",
          "output_type": "stream",
          "text": [
            "575\n",
            "661\n",
            "760\n",
            "875\n",
            "1006\n",
            "1157\n",
            "1330\n",
            "1530\n",
            "1759\n",
            "2023\n",
            "2326\n",
            "2675\n",
            "2675\n"
          ]
        }
      ],
      "source": [
        "def  b(n):\n",
        "    b = 500*1.15**n\n",
        "    return b\n",
        "\n",
        "#2\n",
        "\n",
        "for i in range(1,13):\n",
        "    print(round(b(i)))\n",
        "\n",
        "\n",
        "#3\n",
        "\n",
        "print(round(b(12)))"
      ]
    },
    {
      "cell_type": "code",
      "execution_count": null,
      "metadata": {},
      "outputs": [
        {
          "name": "stdout",
          "output_type": "stream",
          "text": [
            "1. \n",
            "Al cabo de 3 meses tendrá 760 usuarios, y a los 6 meses tendrá 1157 usuarios.\n",
            "\n",
            "2.\n",
            "Al mes 1 tendrá 575 usuarios.\n",
            "Al mes 2 tendrá 661 usuarios.\n",
            "Al mes 3 tendrá 760 usuarios.\n",
            "Al mes 4 tendrá 875 usuarios.\n",
            "Al mes 5 tendrá 1006 usuarios.\n",
            "Al mes 6 tendrá 1157 usuarios.\n",
            "Al mes 7 tendrá 1330 usuarios.\n",
            "Al mes 8 tendrá 1530 usuarios.\n",
            "Al mes 9 tendrá 1759 usuarios.\n",
            "Al mes 10 tendrá 2023 usuarios.\n",
            "Al mes 11 tendrá 2326 usuarios.\n",
            "Al mes 12 tendrá 2675 usuarios.\n",
            "\n",
            "3. \n",
            "Luego de 1 año tendrá 16676 usuarios.\n"
          ]
        }
      ],
      "source": [
        "def b(n):\n",
        "    b = 500*1.15**n\n",
        "    return b\n",
        "\n",
        "print(f\"1. \\nAl cabo de 3 meses tendrá {round(b(3))} usuarios, y a los 6 meses tendrá {round(b(6))} usuarios.\")\n",
        "\n",
        "#2.\n",
        "print(\"\\n2.\")\n",
        "for i in range(1,13):\n",
        "    print(f\"Al mes {i} tendrá {round(b(i))} usuarios.\")\n",
        "\n",
        "#3.\n",
        "total = 0\n",
        "for i in range(1,13):\n",
        "    total += b(i)\n",
        "\n",
        "print(f\"\\n3. \\nLuego de 1 año tendrá {round(total)} usuarios.\")\n"
      ]
    },
    {
      "cell_type": "markdown",
      "metadata": {
        "id": "s2hruXWnJDbS"
      },
      "source": [
        "# Problema 6"
      ]
    },
    {
      "cell_type": "markdown",
      "metadata": {
        "id": "hH_VNmA_Og0U"
      },
      "source": [
        "Un estudiante de ingeniería informática planea ahorrar para un proyecto personal. Para esto, el primer mes deposita en una cuenta $\\$12.000$, el segundo mes deposita $\\$14.000$ y así sucesivamente, de modo que cada mes aumenta el depósito en $\\$2.000$. Considere que $a_{i}$ corresponde al depósito del estudiante en el mes $i$.\n",
        "\n",
        "1. Implementa un código que permita mostrar en pantalla lo que depositó mensualmente durante el primer año.\n",
        "2. ¿Cuánto depositó el estudiante en febrero del segundo año?\n",
        "3. ¿Cuál será el total ahorrado al finalizar dos años?"
      ]
    },
    {
      "cell_type": "code",
      "execution_count": null,
      "metadata": {},
      "outputs": [
        {
          "name": "stdout",
          "output_type": "stream",
          "text": [
            "12000\n",
            "14000\n",
            "16000\n",
            "18000\n",
            "20000\n",
            "22000\n",
            "24000\n",
            "26000\n",
            "28000\n",
            "30000\n",
            "32000\n",
            "34000\n",
            "38000\n"
          ]
        }
      ],
      "source": [
        "def a(i):\n",
        "    a = 10000+i*2000\n",
        "    return a\n",
        "\n",
        "for i in range(1,13):\n",
        "    print(a(i))\n",
        "\n",
        "#2\n",
        "print(a(14))\n",
        "\n",
        "\n",
        "#3\n",
        "total = 0\n",
        "for i in range(1,25):\n",
        "    total += a(i)\n",
        "\n",
        "print(total)\n"
      ]
    },
    {
      "cell_type": "code",
      "execution_count": null,
      "metadata": {},
      "outputs": [
        {
          "name": "stdout",
          "output_type": "stream",
          "text": [
            "\n",
            "2. \n",
            "En febrero de segundo año ahorró $38000\n",
            "\n",
            "3. \n",
            "Al finalizar los dos años tendrá ahorrado $840000\n"
          ]
        }
      ],
      "source": [
        "#1.\n",
        "def a(i):\n",
        "    a = 2000*i + 10000\n",
        "    return a\n",
        "\n",
        "#2.\n",
        "print(f\"\\n2. \\nEn febrero de segundo año ahorró ${a(14)}\")\n",
        "\n",
        "#3.\n",
        "total_ahorro = 0\n",
        "for i in range(1,25):\n",
        "    total_ahorro += a(i)\n",
        "\n",
        "print(f\"\\n3. \\nAl finalizar los dos años tendrá ahorrado ${total_ahorro}\")"
      ]
    },
    {
      "cell_type": "markdown",
      "metadata": {
        "id": "G9sEfl4rB3e8"
      },
      "source": [
        "# Problema 7"
      ]
    },
    {
      "cell_type": "markdown",
      "metadata": {
        "id": "KZUNnG20CT4F"
      },
      "source": [
        "Por lo general, los proyectos son organizados en varias etapas que deben completarse secuencialmente.\n",
        "\n",
        "La fase inicial de un proyecto de software tiene una duración de $3$ meses y cada fase subsecuente reduce su duración en un $10 \\%$ debido a la experiencia ganada. Determine:\n",
        "\n",
        "1. ¿Cuánto dura la quinta fase?\n",
        "2. Calcula la duración total del proyecto después de $10$ fases."
      ]
    },
    {
      "cell_type": "code",
      "execution_count": null,
      "metadata": {},
      "outputs": [
        {
          "name": "stdout",
          "output_type": "stream",
          "text": [
            "1. \n",
            "La quinta fase dura 1.8 meses.\n",
            "\n",
            "3. \n",
            "La duración total del proyecto después de 10 fases dura 17.6 meses.\n"
          ]
        }
      ],
      "source": [
        "def p(x):\n",
        "    p = 3 * 0.9**x\n",
        "    return p\n",
        "\n",
        "print(f\"1. \\nLa quinta fase dura {round(p(5),1)} meses.\")\n",
        "\n",
        "duracion_total = 0\n",
        "for i in range(1,11):\n",
        "    duracion_total += p(i)\n",
        "\n",
        "print(f\"\\n3. \\nLa duración total del proyecto después de 10 fases dura {round(duracion_total,1)} meses.\")"
      ]
    },
    {
      "cell_type": "markdown",
      "metadata": {
        "id": "keVOy_xIlU1E"
      },
      "source": [
        "# Problema 8"
      ]
    },
    {
      "cell_type": "markdown",
      "metadata": {
        "id": "QXrNG-zulXil"
      },
      "source": [
        "En una sucesión aritmética, la diferencia entre un término y el anterior es $4$ y el décimo término es $-20$. Determine:\n",
        "\n",
        "1. El primer término de la sucesión.\n",
        "2. La expresión del término de lugar $n$.\n",
        "3. Utilice un código en *Python* para calcular el término que ocupa el lugar $100$.\n",
        "4. Determinar la posición del número $1.680$ en la secuencia. Calcule utilizando un ciclo *while*."
      ]
    },
    {
      "cell_type": "code",
      "execution_count": null,
      "metadata": {},
      "outputs": [
        {
          "name": "stdout",
          "output_type": "stream",
          "text": [
            "1) \n",
            "El primer término se la sucesión sería -56\n"
          ]
        }
      ],
      "source": [
        "d = 4\n",
        "a10 = -20\n",
        "\n",
        "#a10 = a1 + 9*d\n",
        "a1 = a10 - 9*d\n",
        "\n",
        "print(f\"1) \\nEl primer término se la sucesión sería {a1}\")\n",
        "\n"
      ]
    },
    {
      "cell_type": "markdown",
      "metadata": {
        "id": "gFYqGSbdqoqT"
      },
      "source": [
        "# Problema 9"
      ]
    },
    {
      "cell_type": "markdown",
      "metadata": {
        "id": "UtblbNCYqxOM"
      },
      "source": [
        "El tercer término de una sucesión geométrica es $5$ y el sexto término es $40$. Determine:\n",
        "\n",
        "1. La razón geométrica de la sucesión.\n",
        "2. El primer término de la sucesión.\n",
        "3. La expresión del término de lugar $n$.\n",
        "4. Utilice un código en *Python* para calcular el término que ocupa el lugar $8$.\n",
        "4. ¿Qué lugar ocupa en esta sucesión el término $20.480$? Calcule utilizando un ciclo *while*."
      ]
    },
    {
      "cell_type": "code",
      "execution_count": null,
      "metadata": {},
      "outputs": [
        {
          "name": "stdout",
          "output_type": "stream",
          "text": [
            "1. La razón geómetrica de la sucesión es 2.0.\n",
            "1.25\n",
            "160.0\n",
            "[15.0000000000000]\n",
            "El lugar que ocupa es el 15\n"
          ]
        }
      ],
      "source": [
        "a3 = 5\n",
        "a6 = 40\n",
        "\n",
        "#Como poner una raíz en python --> x**(1/n)\n",
        "#Ej: si quiero la raíz de 5 en x --> x**(1/5)\n",
        "\n",
        "R = (a6/a3)**(1/3)\n",
        "print(f\"1. La razón geómetrica de la sucesión es {R}.\")\n",
        "\n",
        "#2. Calcular el primer término de la ecuación\n",
        "\n",
        "a1 = a6*R**(-5)\n",
        "print(a1)\n",
        "\n",
        "#3. Expresión del término lugar n: recordar \"an = a1*R**(n-1)\"\n",
        "\n",
        "#4. El término del lugar 8\n",
        "\n",
        "def a(n):\n",
        "    a = a1*R**(n-1)\n",
        "    return a\n",
        "\n",
        "print(a(8))\n",
        "\n",
        "#5\n",
        "\n",
        "#Primera forma\n",
        "import sympy as sp\n",
        "\n",
        "x = sp.Symbol(\"x\")\n",
        "ecuacion = a(x) - 20480\n",
        "solucion = sp.solve(ecuacion,x)\n",
        "print(solucion)\n",
        "\n",
        "#Segunda forma\n",
        "i = 1\n",
        "while a(i) < 20480:\n",
        "    i+= 1\n",
        "\n",
        "print(f\"El lugar que ocupa es el {i}\")"
      ]
    },
    {
      "cell_type": "markdown",
      "metadata": {
        "id": "Ju4J8uWfxQKk"
      },
      "source": [
        "# Problema 10"
      ]
    },
    {
      "cell_type": "markdown",
      "metadata": {
        "id": "F6FPVCXQxTMj"
      },
      "source": [
        "Una empresa de tecnología está optimizando sus servidores. Para ello mide las transacciones por segundo (TPS) de sus servidores en cada mes. Se ha obtenido que en el segundo mes, el rendimiento del servidor fue $1,2$ miles de TPS y en el quinto mes, el rendimiento fue $2,7$ miles de TPS. Si el número de TPS que hay mes a mes sigue una sucesión geométrica, determina utilizando un código en *Python*:\n",
        "\n",
        "1. ¿Cuál es el rendimiento el noveno mes?\n",
        "2. ¿En qué mes el rendimiento es de $23,4$ miles de TPS?\n",
        "\n",
        "Utilice dos decimales para el cálculo."
      ]
    },
    {
      "cell_type": "code",
      "execution_count": null,
      "metadata": {},
      "outputs": [
        {
          "name": "stdout",
          "output_type": "stream",
          "text": [
            " R = 1.31\n",
            "a1 = 0.9168083953407918\n",
            "1. El rendimiento del noveno mes es 7.944751462809734.\n",
            "[13.0004294243432]\n",
            "14\n",
            "Primera forma: 23.397286781621016\n",
            "Segunda forma: 30.65044568392353\n",
            "2. La primera forma es la correcta (sympy), por lo que sería en el mes 13.\n"
          ]
        }
      ],
      "source": [
        "a2 = 1.2\n",
        "a5 = 2.7\n",
        "\n",
        "R = round((a5/a2)**(1/3),2)\n",
        "print(f\" R = {R}\")\n",
        "\n",
        "# n siempre es mayor que k\n",
        "# n = 5 y k = 2\n",
        "# Fórmula --> an = ak * R ** (n-k)\n",
        "\n",
        "a1 = a5 * R ** (1-5)\n",
        "print(f\"a1 = {a1}\")\n",
        "\n",
        "def a(n):\n",
        "    a = a2 * R ** (n-2)\n",
        "    return a\n",
        "\n",
        "print(f\"1. El rendimiento del noveno mes es {a(9)}.\")\n",
        "\n",
        "import sympy as sp\n",
        "\n",
        "#Primera forma (sympy)\n",
        "\n",
        "x = sp.Symbol(\"x\")\n",
        "ecuacion = a(x) - 23.4\n",
        "solucion = sp.solve(ecuacion,x)\n",
        "print(solucion)\n",
        "\n",
        "#Segunda forma (while)\n",
        "i = 1\n",
        "while a(i) < 23.4:\n",
        "    i+=1\n",
        "\n",
        "print(i)\n",
        "\n",
        "print(f\"Primera forma: {a(13)}\")\n",
        "print(f\"Segunda forma: {a(14)}\")\n",
        "\n",
        "print(\"2. La primera forma es la correcta (sympy), por lo que sería en el mes 13.\")"
      ]
    },
    {
      "cell_type": "markdown",
      "metadata": {
        "id": "jxQyaJXUCW7m"
      },
      "source": [
        "# Problema 11"
      ]
    },
    {
      "cell_type": "markdown",
      "metadata": {
        "id": "8LdxsBUwDfbf"
      },
      "source": [
        "Una aplicación de redes sociales se estrenó el $1$ de enero con una cierta cantidad de usuarios. A partir de ahí, el número de usuarios nuevos de cada día fue siempre el mismo. El $3$ de enero tenía $500$ usuarios en total y el $10$ de enero tenía $1.501$ usuarios totales.Determine:\n",
        "\n",
        "1. ¿Con cuántos usuarios comenzó a funcionar la aplicación?\n",
        "2. ¿Cuántos usuarios tendrá la aplicación el $31$ de enero?\n",
        "3. Si la aplicación tiene $5.505$ usuarios, ¿cuántos meses lleva funcionando?\n",
        "\n"
      ]
    },
    {
      "cell_type": "code",
      "execution_count": null,
      "metadata": {},
      "outputs": [
        {
          "name": "stdout",
          "output_type": "stream",
          "text": [
            " d = 143.0\n",
            "1. Comenzó a funcionar con 214.0 usuarios.\n",
            "2. El 31 de enero tendrá 4504.0 usuarios.\n",
            "3. Al tener 5.505 usuarios, la aplicación lleva funcionando 38 meses.\n",
            "500.0\n",
            "357.0\n"
          ]
        }
      ],
      "source": [
        "a3 = 500\n",
        "a10 = 1501\n",
        "\n",
        "#a10 = a3 + 7*d\n",
        "d = (a10 - a3)/7\n",
        "print(f\" d = {d}\")\n",
        "# a10 = a1 + 9*d\n",
        "a1 = a10 -9*d\n",
        "print(f\"1. Comenzó a funcionar con {a1} usuarios.\")\n",
        "\n",
        "def a(n):\n",
        "    a = a1 + (n-1)*d\n",
        "    return a\n",
        "\n",
        "print(f\"2. El 31 de enero tendrá {a(31)} usuarios.\")\n",
        "\n",
        "#3\n",
        "import sympy as sp\n",
        "\n",
        "x = sp.Symbol(\"x\")\n",
        "ecuacion = a(x) - 5505\n",
        "solucion = sp.solve(ecuacion,x)\n",
        "print(f\"3. Al tener 5.505 usuarios, la aplicación lleva funcionando {round(solucion[0])} meses.\")\n",
        "\n",
        "print(a(3))\n",
        "print(a(2))\n"
      ]
    },
    {
      "cell_type": "code",
      "execution_count": null,
      "metadata": {},
      "outputs": [
        {
          "name": "stdout",
          "output_type": "stream",
          "text": [
            "143.0\n",
            "a1 sería 214.0 y la diferencia en la sucesión entre dos términos consecutivos sería de 143.0\n",
            "a31 = 4504.0\n",
            "38\n"
          ]
        }
      ],
      "source": [
        "# a3 = 500\n",
        "#a10 = 1501\n",
        "\n",
        "#No tengo a1 ni la diferencia (d)\n",
        "\n",
        "#a10 = a3 + 7d\n",
        "# a10 - a3 = 7d\n",
        "#(a10 - a3)/7 = d\n",
        "\n",
        "a3 = 500\n",
        "a10 = 1501\n",
        "d = (a10-a3)/7\n",
        "\n",
        "print(d)\n",
        "\n",
        "#a1 = a3 - 2d\n",
        "#a1 = a10 - 9d\n",
        "\n",
        "a1 = a3 - 2*d\n",
        "\n",
        "#a3 = a1 + 2*d --> a2 = a1 + d + d -> a1 + 2d\n",
        "\n",
        "print(f\"a1 sería {a1} y la diferencia en la sucesión entre dos términos consecutivos sería de {d}\")\n",
        "\n",
        "def a(n):\n",
        "    a = a1+(n-1)*d\n",
        "    return a\n",
        " \n",
        "print(f\"a31 = {a(31)}\")\n",
        "\n",
        "import sympy as sp\n",
        "\n",
        "x = sp.Symbol(\"x\")\n",
        "ecuacion = a(x) - 5505\n",
        "solucion = sp.solve(ecuacion,x)\n",
        "print(round(solucion[0]))\n"
      ]
    },
    {
      "cell_type": "markdown",
      "metadata": {
        "id": "zBN3BhYVLLSe"
      },
      "source": [
        "# Problema 12"
      ]
    },
    {
      "cell_type": "markdown",
      "metadata": {
        "id": "kszkhh_GLQN1"
      },
      "source": [
        "Una empresa de publicidad ofrece para un puesto de trabajo un salario inicial y un aumento mensual en una razón constante. Javier se presenta a la entrevista, y el encargado del departamento de recursos humanos le explica que en el segundo mes de trabajo su sueldo será de $\\$402.000$, y que en el tercer mes de trabajo será de $\\$404.010$. Determine:\n",
        "\n",
        "1. El salario aproximado que Javier recibiría en el décimo mes de trabajo en la empresa.\n",
        "2. ¿Cuál sería el ingreso total recibido por los sueldos de Javier durante el tercer año de trabajo?"
      ]
    },
    {
      "cell_type": "code",
      "execution_count": null,
      "metadata": {},
      "outputs": [
        {
          "name": "stdout",
          "output_type": "stream",
          "text": [
            "1. En el décimo mes recibiría un bono de 418364.2316580258\n",
            "El ingreso total recibido por los sueldos durante el tercer año sería de $5561659.8894421905\n"
          ]
        }
      ],
      "source": [
        "a2 = 402000\n",
        "a3 = 404010\n",
        "\n",
        "R = (a3/a2)**(1)\n",
        "\n",
        "a1 = a3 * R ** 2\n",
        "\n",
        "def a(n):\n",
        "    a = a3 * R ** (n-3)\n",
        "    return a\n",
        "\n",
        "print(f\"1. En el décimo mes recibiría un bono de {a(10)}\")\n",
        "\n",
        "total = 0\n",
        "for i in range(25, 37):\n",
        "    total += a(i)\n",
        "\n",
        "print(f\"El ingreso total recibido por los sueldos durante el tercer año sería de ${total}\")"
      ]
    },
    {
      "cell_type": "code",
      "execution_count": null,
      "metadata": {},
      "outputs": [
        {
          "name": "stdout",
          "output_type": "stream",
          "text": [
            "2010\n",
            "399990\n",
            "El salario estimado que Javier recibiría en el décmo mes sería de $418080\n",
            "Después de 3 años Javier tednrá un total de $5511420\n"
          ]
        }
      ],
      "source": []
    },
    {
      "cell_type": "markdown",
      "metadata": {
        "id": "-lx5k4b9Y8sD"
      },
      "source": [
        "# Problema 13"
      ]
    },
    {
      "cell_type": "markdown",
      "metadata": {
        "id": "OVuWQuXsY_pp"
      },
      "source": [
        "Una empresa de ciberseguridad capacita trabajadores cada trimestre. En el primer trimestre capacitaron a $30$ trabajadores, en el segundo trimestre a $60$ trabajadores, y en el tercer trimestre a $120$ trabajadores. Si en los siguientes trimestres la empresa mantiene el mismo patrón de crecimiento, determine utilizando *Python*:\n",
        "\n",
        "1. ¿A cuántos trabajadores capacitarán en el octavo trimestre?\n",
        "2. Si la empresa lleva en el mercado $3$ años, ¿a cuántos trabajadores han capacitado en total?"
      ]
    },
    {
      "cell_type": "code",
      "execution_count": null,
      "metadata": {},
      "outputs": [],
      "source": []
    },
    {
      "cell_type": "code",
      "execution_count": null,
      "metadata": {},
      "outputs": [
        {
          "name": "stdout",
          "output_type": "stream",
          "text": [
            "2.0\n",
            "1. En el octavo trimestre capacitarán 3840.0 trabajadores.\n",
            "2. Después de 3 años ha capacitado 122850.0 trabajadores en total.\n"
          ]
        }
      ],
      "source": [
        "a1 = 30\n",
        "a2 = 60\n",
        "a3 = 120\n",
        "\n",
        "R = a3/a2**(1)\n",
        "print(R)\n",
        "def a(n):\n",
        "    a = a3 * R ** (n-3)\n",
        "    return a\n",
        "\n",
        "\n",
        "print(f\"1. En el octavo trimestre capacitarán {a(8)} trabajadores.\")\n",
        "\n",
        "total = 0\n",
        "for i in range(1,13):\n",
        "    total += a(i)\n",
        "\n",
        "print(f\"2. Después de 3 años ha capacitado {total} trabajadores en total.\")"
      ]
    },
    {
      "cell_type": "markdown",
      "metadata": {
        "id": "IM7Xf51G6AXs"
      },
      "source": [
        "# Problema 14"
      ]
    },
    {
      "cell_type": "markdown",
      "metadata": {
        "id": "Ni_4WMQl6OeV"
      },
      "source": [
        "Al llenar un tambor con agua, se registra que durante el minuto $4$ el tambor recibe $128$ litros, y durante el minuto $9$ recibe $88$ litros. Sabiendo que en cada minuto recibe una cantidad $d$ de litros de agua menos que en el minuto anterior, determine:\n",
        "\n",
        "1. ¿En qué instante el tambor deja de recibir agua?\n",
        "2. ¿Cuántos litros recibe en total el tambor?\n",
        "\n",
        "Realice los cálculos anteriores utilizando *Python*."
      ]
    },
    {
      "cell_type": "code",
      "execution_count": null,
      "metadata": {},
      "outputs": [
        {
          "name": "stdout",
          "output_type": "stream",
          "text": [
            "1. El tambor deja de recibir agua a los 20 minutos\n",
            "2. Después de 20 minutos el tambor recibe un total de 1520.0 litros de agua\n",
            "88.0\n"
          ]
        }
      ],
      "source": [
        "a4 = 128\n",
        "a9 =  88\n",
        "#a9 = a4 + 5*d\n",
        "#(a9 - a4)/ 5 = d\n",
        "# d = (a9-a4)/5\n",
        "\n",
        "d = (a9 - a4)/5\n",
        "#d = -8\n",
        "\n",
        "#a9 = a1 + 8*d\n",
        "a1 = a9 - 8*d\n",
        "#a1 = 152\n",
        "\n",
        "def a(n):\n",
        "    a = a1 + (n-1)*d\n",
        "    return a\n",
        "\n",
        "import sympy as sp\n",
        "\n",
        "x = sp.Symbol(\"x\")\n",
        "ecuacion = a(x) - 0\n",
        "solucion = sp.solve(ecuacion,x)\n",
        "print(f\"1. El tambor deja de recibir agua a los {round(solucion[0])} minutos\")\n",
        "\n",
        "total = 0\n",
        "\n",
        "for i in range(1, 21):\n",
        "    total += a(i)\n",
        "\n",
        "print(f\"2. Después de 20 minutos el tambor recibe un total de {total} litros de agua\")\n",
        "\n"
      ]
    },
    {
      "cell_type": "code",
      "execution_count": null,
      "metadata": {},
      "outputs": [
        {
          "name": "stdout",
          "output_type": "stream",
          "text": [
            "152.0 -8.0\n",
            "[20.0000000000000]\n",
            "88.0\n",
            "En total recibió 1520.0 litros\n"
          ]
        }
      ],
      "source": [
        "a4 = 128\n",
        "a9 = 88\n",
        "#Lo divido en la cantidad de pasos\n",
        "d = (a9 - a4)/5\n",
        "\n",
        "#Retrocedo 8 pasos\n",
        "a1 = a9 - 8*d\n",
        "print(a1, d)\n",
        "\n",
        "import sympy as sp\n",
        "\n",
        "def a(n):\n",
        "    a = a1 + (n-1)*(d)\n",
        "    return a\n",
        "\n",
        "x = sp.Symbol(\"x\")\n",
        "ecuacion = a(x) - 0\n",
        "solucion = sp.solve(ecuacion,x)\n",
        "print(solucion)\n",
        "\n",
        "print(a(9))\n",
        "\n",
        "#2\n",
        "lista = []\n",
        "for i in range(1, 21):\n",
        "    lista.append(a(i))\n",
        "\n",
        "suma = sum(lista)\n",
        "print(f\"En total recibió {suma} litros\")"
      ]
    }
  ],
  "metadata": {
    "colab": {
      "provenance": []
    },
    "kernelspec": {
      "display_name": "Python 3",
      "name": "python3"
    },
    "language_info": {
      "codemirror_mode": {
        "name": "ipython",
        "version": 3
      },
      "file_extension": ".py",
      "mimetype": "text/x-python",
      "name": "python",
      "nbconvert_exporter": "python",
      "pygments_lexer": "ipython3",
      "version": "3.13.9"
    }
  },
  "nbformat": 4,
  "nbformat_minor": 0
}
