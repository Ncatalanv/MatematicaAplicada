{
  "cells": [
    {
      "cell_type": "markdown",
      "metadata": {
        "id": "xXjhMBMryPEY"
      },
      "source": [
        "# Problema 1"
      ]
    },
    {
      "cell_type": "markdown",
      "metadata": {
        "id": "hd5aYLdWxUrZ"
      },
      "source": [
        "Una red transmite datos a $100$ megabits por segundo. Crea una función utilizando *Python* que permita calcular la cantidad de datos transmitidos en una cierta cantidad de tiempo (en segundos). Luego utiliza la función y calcula cuántos datos se transmiten en:\n",
        "\n",
        "* $45$ segundos\n",
        "* $1,5$ minutos\n",
        "* $1$ hora\n",
        "\n"
      ]
    },
    {
      "cell_type": "code",
      "execution_count": 51,
      "metadata": {},
      "outputs": [
        {
          "name": "stdout",
          "output_type": "stream",
          "text": [
            "Los datos transmitidos en 90.0 segundos son 9000.0 megabits\n"
          ]
        }
      ],
      "source": [
        "def datos(seg):\n",
        "    formula = 100 * seg\n",
        "    print(f\"Los datos transmitidos en {seg} segundos son {formula} megabits\")\n",
        "\n",
        "\n",
        "def min_seg(x):\n",
        "    formula = x *60\n",
        "    return formula\n",
        "\n",
        "def hr_seg(x):\n",
        "    formula = x * 3600\n",
        "    return formula\n",
        "\n",
        "a = min_seg(1.5)\n",
        "datos(a)"
      ]
    },
    {
      "cell_type": "markdown",
      "metadata": {
        "id": "D8XA9m7wAPMm"
      },
      "source": [
        "# Problema 2"
      ]
    },
    {
      "cell_type": "markdown",
      "metadata": {
        "id": "GAqylLb8Cu5U"
      },
      "source": [
        "Utilizando la función definida en el problema $1$, genera un listado que muestre los datos transmitidos para tiempos desde $0$ hasta $1.000$ segundos con incrementos de $100$ segundos."
      ]
    },
    {
      "cell_type": "code",
      "execution_count": 57,
      "metadata": {},
      "outputs": [
        {
          "name": "stdout",
          "output_type": "stream",
          "text": [
            "Los datos transmitidos en 0 segundos son 0 megabits\n",
            "Los datos transmitidos en 100 segundos son 10000 megabits\n",
            "Los datos transmitidos en 200 segundos son 20000 megabits\n",
            "Los datos transmitidos en 300 segundos son 30000 megabits\n",
            "Los datos transmitidos en 400 segundos son 40000 megabits\n",
            "Los datos transmitidos en 500 segundos son 50000 megabits\n",
            "Los datos transmitidos en 600 segundos son 60000 megabits\n",
            "Los datos transmitidos en 700 segundos son 70000 megabits\n",
            "Los datos transmitidos en 800 segundos son 80000 megabits\n",
            "Los datos transmitidos en 900 segundos son 90000 megabits\n",
            "Los datos transmitidos en 1000 segundos son 100000 megabits\n"
          ]
        }
      ],
      "source": [
        "for i in range(0,1001, 100):\n",
        "    datos(i)"
      ]
    },
    {
      "cell_type": "markdown",
      "metadata": {
        "id": "Y28VfYtL2lU-"
      },
      "source": [
        "# Problema 3"
      ]
    },
    {
      "cell_type": "markdown",
      "metadata": {
        "id": "Z1-uAGdQ2xq2"
      },
      "source": [
        "La **latencia** de una red corresponde al tiempo que tarda un paquete de datos en viajar desde el punto de origen al destino. En otras palabras, es el tiempo que transcurre desde que se envía una solicitud de un dispositivo hasta que se recibe una respuesta del servidor u otro dispositivo.\n",
        "\n",
        "La latencia puede verse afectada por la velocidad de transmisión de los datos a través de los cables o conexiones inalámbricas, la distancia física entre los dispositivos, el tiempo que tarda un computador en procesar o reenviar los datos, etc.\n",
        "\n",
        "En redes de comunicación, como las videoconferencias, juegos en línea y transmisión de datos en tiempo real, es deseable una baja latencia, de lo contrario pueden existir retrasos en la comunicación y afectar negativamente la experiencia del usuario."
      ]
    },
    {
      "cell_type": "markdown",
      "metadata": {
        "id": "XFLW0fW26j83"
      },
      "source": [
        "Según el contexto mencionado, crea una función en *Python* que permita calcular la **latencia real** de una red dada una latencia estimada. Suponga que la latencia real es un $20\\%$ mayor a la latencia estimada.\n",
        "\n",
        "Calcule la latencia real para una latencia estimada de:\n",
        "\n",
        "a)   $200$ milisegundos.\n",
        "\n",
        "b)   $149$ milisegundos.\n",
        "\n",
        "c)   $74$ milisegundos.\n",
        "\n"
      ]
    },
    {
      "cell_type": "code",
      "execution_count": 54,
      "metadata": {},
      "outputs": [
        {
          "name": "stdout",
          "output_type": "stream",
          "text": [
            "La latencia real de 200 milisegundos es 240.0 milisegundos\n",
            "La latencia real de 149 milisegundos es 178.8 milisegundos\n",
            "La latencia real de 74 milisegundos es 88.8 milisegundos\n"
          ]
        }
      ],
      "source": [
        "def latencia(ml):\n",
        "    formula = ml + (ml*0.2)\n",
        "    print(f\"La latencia real de {ml} milisegundos es {formula} milisegundos\")\n",
        "\n",
        "latencia(200)\n",
        "latencia(149)\n",
        "latencia(74)"
      ]
    },
    {
      "cell_type": "markdown",
      "metadata": {
        "id": "LGX3xr94E-Ix"
      },
      "source": [
        "# Problema 4"
      ]
    },
    {
      "cell_type": "markdown",
      "metadata": {
        "id": "wPT1xIfVGDCQ"
      },
      "source": [
        "Como parte de un proyecto de mejora, en el año $2021$ se instaló un cable de fibra óptica que une España con EEUU. El cable tiene un largo de $6.600$ $km$ y fue colocado por un barco a una velocidad de $1,85$ $km/h$.\n",
        "\n",
        "\n",
        "\n",
        "1.   Determine la forma algebraica de la función que permite determinar el largo del cable instalado (en km) a partir del tiempo transcurrido (en horas). Utilice la instrucción *def* para definir la función en *Python*.\n",
        "2.   Defina variable dependiente e independiente, indicando unidad de medida.\n",
        "3.   Determine el dominio contextualizado de la función.\n",
        "4.   Grafique la función utilizando la biblioteca *Matplotlib* considerando el dominio contextualizado.\n",
        "5.   ¿Cuántos metros de cable se instalaron al transcurrir $148$ horas? ¿Y transcurridas $2.300$ horas?\n",
        "6.   Si se han instalado $3.480$ kilometros de cable, ¿cuántas horas llevan de trabajo?\n",
        "7.   ¿Cuánto tiempo transcurrió para que se completara la obra?\n",
        "\n",
        "\n"
      ]
    },
    {
      "cell_type": "code",
      "execution_count": null,
      "metadata": {},
      "outputs": [
        {
          "name": "stdout",
          "output_type": "stream",
          "text": [
            "En 3480km de cable llevarán 1881.08 horas de trabajo\n",
            "1881.1\n"
          ]
        },
        {
          "data": {
            "text/plain": [
              "4255.0"
            ]
          },
          "execution_count": 37,
          "metadata": {},
          "output_type": "execute_result"
        },
        {
          "data": {
            "image/png": "[encoded data removed]",
            "text/plain": [
              "<Figure size 640x480 with 1 Axes>"
            ]
          },
          "metadata": {},
          "output_type": "display_data"
        }
      ],
      "source": [
        "# 1\n",
        "\n",
        "def largo_cable(horas):\n",
        "    formula = horas * 1.85\n",
        "\n",
        "    return formula\n",
        "\n",
        "#largo_cable(int(input(\"Ingrese horas: \")))\n",
        "\n",
        "# 2\n",
        "\n",
        "# Variable dependiente: distancia - km (y) imagen\n",
        "# Variable independiente: tiempo - horas (x) preimagen\n",
        "\n",
        "# 3\n",
        "\n",
        "# Dominio asociado a la variable independiente\n",
        "# Tiempo empieza en 0\n",
        "#Dominio contextualizado (desde donde hasta donde): desde 0 hasta 3568 horas aprox\n",
        "# 6600/1.85 = 3568(tiempo máaximo que me voy a demorar)\n",
        "\n",
        "\n",
        "#6. Si se han instalado $3.480$ kilometros de cable, ¿cuántas horas llevan de trabajo?\n",
        "\n",
        "\n",
        "def cable_hora(distancia):\n",
        "    formula = distancia/1.85\n",
        "\n",
        "    #print(f\"En {distancia}km llevan {formula} horas de trabajo.\")\n",
        "\n",
        "    return formula\n",
        "\n",
        "print(f\"En 3480km de cable llevarán {round(cable_hora(3480),2)} horas de trabajo\")\n",
        "\n",
        "\n",
        "# 4\n",
        "\n",
        "import matplotlib.pyplot as plt\n",
        "import numpy as np\n",
        "\n",
        "x = np.arange(0,3568,1)\n",
        "\n",
        "plt.plot(x,cable_hora(x), label = \"cable_hora(x)\")\n",
        "plt.title(\"Largo del cable en función del tiempo\")\n",
        "plt.xlabel(\"Tiempo (horas)\")\n",
        "plt.ylabel(\"Longitud del cable (km)\")\n",
        "\n",
        "\n",
        "#modificar ejes\n",
        "ax = plt.gca()\n",
        "\n",
        "#modificar cuadros para que queden como ejes\n",
        "ax.spines[[\"left\", \"bottom\"]].set_position((\"data\", 0))\n",
        "\n",
        "#Hacer invisibles la línea de arriba y de la derecha\n",
        "\n",
        "ax.spines[[\"right\", \"top\"]].set_visible(False)\n",
        "\n",
        "#plt.grid()\n",
        "#plt.legend()\n",
        "#plt.show()\n",
        "\n",
        "#5. ¿Cuántos metros de cable se instalaron al transcurrir $148$ horas? ¿Y transcurridas $2.300$ horas?\n",
        "\n",
        "\n",
        "largo_cable(148)\n",
        "largo_cable(2300)\n",
        "\n",
        "\n",
        "# 7. ¿Cuánto tiempo transcurrió para que se completara la obra?\n",
        "\n",
        "# Fórmula profe\n",
        "\n",
        "def L(t):\n",
        "    L=1.85*t\n",
        "\n",
        "    return L\n",
        "\n",
        "import sympy as sp\n",
        "\n",
        "# Declarar la variable como simbolo\n",
        "t = sp.Symbol(\"t\")\n",
        "\n",
        "# ecuación será \"función - resultado\"\n",
        "ecuacion = L(t) - 3480\n",
        "\n",
        "# Declarar la solución\n",
        "solucion = sp.solve(ecuacion, t)\n",
        "a = round(solucion[0],1)\n",
        "print(a)\n",
        "\n",
        "\n",
        "\n",
        "\n"
      ]
    },
    {
      "cell_type": "markdown",
      "metadata": {
        "id": "FMr921rUDxvV"
      },
      "source": [
        "# Problema 5"
      ]
    },
    {
      "cell_type": "markdown",
      "metadata": {
        "id": "Iuo-QM5vGSiW"
      },
      "source": [
        "Un turista ha llegado a Santiago y desea conocer algunos lugares de la ciudad. Ha decidido visitar el Palacio de la Moneda y desde ahí trasladarse al centro comercial \"Costanera Center\", utilizando algún medio de transporte que ofrece la ciudad.\n",
        "\n",
        "Si se traslada en metro deberá abordar en estación La Moneda y bajar en la estación Tobalaba ($9$ estaciones). La función $f(t)$ permite calcular la distancia recorrida utilizando el metro (en kilómetros) transcurridos $t$ minutos.\n",
        "\n",
        "$$f(t) = 0,4t$$\n",
        "\n",
        "Si se traslada en bus, el turista podrá observar la ciudad y otros atractivos en su viaje. La función $g(t)$ permite calcular la distancia recorrida en bus (en kilómetros) transcurridos $t$ minutos.\n",
        "\n",
        "$$g(t) = 0,3t$$\n",
        "\n",
        "Según la información anterior:\n",
        "\n",
        "1. Grafique ambas funciones, indicando el nombre de cada eje junto con su unidad de medida. Para realizar el gráfico utilice la biblioteca *Matplotlib*.\n",
        "2.  Si se sabe que el metro se demora $1,2$ minutos en llegar desde una estación a otra y espera $30$ segundos en cada estación, indique el dominio contextualizado para $f(t)$.\n",
        "3. Mediante análisis gráfico, indique cuál medio de transporte es más conveniente en términos de tiempo, para el turista. Justifique.\n",
        "4.  Si se sabe que desde estación La Moneda hasta Tobalaba son aproximadamente $6$ kilómetros ¿cuántos tiempo tardará el turista en llegar a su destino con cada una de las opciones?"
      ]
    },
    {
      "cell_type": "code",
      "execution_count": 50,
      "metadata": {},
      "outputs": [
        {
          "data": {
            "image/png": "[encoded data removed]",
            "text/plain": [
              "<Figure size 640x480 with 1 Axes>"
            ]
          },
          "metadata": {},
          "output_type": "display_data"
        },
        {
          "name": "stdout",
          "output_type": "stream",
          "text": [
            "13.6\n",
            "Al trasladarse en metro se demora 15.0000000000000 minutos\n"
          ]
        }
      ],
      "source": [
        "#1 \n",
        "def f(t):\n",
        "    return 0.4*t\n",
        "\n",
        "def g(t):\n",
        "    return 0.3*t\n",
        "\n",
        "x1 = np.arange(0,31,1)\n",
        "x2 = np.arange(0,31,1)\n",
        "plt.plot(x1, f(x1), label = \"Distancia en metro (x)\")\n",
        "plt.plot(x2, g(x2), label = \"Distancia en micro (x)\")\n",
        "plt.title(\"Distancia en metro\")\n",
        "plt.xlabel(\"Tiempo (minutos)\")\n",
        "plt.ylabel(\"Distancia (km)\")\n",
        "\n",
        "plt.grid()\n",
        "plt.legend()\n",
        "plt.show()\n",
        "\n",
        "# 2\n",
        "\n",
        "#son 9 estaciones pero son 8 estaciones entre medio, por eso 8.\n",
        "tiempo_total = ((1.2*60)+30)*8\n",
        "print(tiempo_total/60)\n",
        "\n",
        "#Dominio contextualizado = 0, 13.6\n",
        "\n",
        "# 3\n",
        "\n",
        "# El metro recorre más distancia en menos tiempo. Por lo tanto, el transporte más conveniente es el metro.\n",
        "\n",
        "\n",
        "#4  Si se sabe que desde estación La Moneda hasta Tobalaba son aproximadamente $6$ kilómetros ¿cuántos tiempo tardará el turista en llegar a su destino con cada una de las opciones?\n",
        "\n",
        "def f(t):\n",
        "    return 0.4*t\n",
        "\n",
        "def g(t):\n",
        "    return 0.3*t\n",
        "\n",
        "t=sp.Symbol(\"t\")\n",
        "ecuacion = f(t)-6\n",
        "solucion = sp.solve(ecuacion,t)\n",
        "s=round(solucion[0],1)\n",
        "print(f\"Al trasladarse en metro se demora {s} minutos\")\n",
        "\n",
        "\n",
        "           "
      ]
    },
    {
      "cell_type": "markdown",
      "metadata": {
        "id": "C5psSJY-S9x4"
      },
      "source": [
        "# Problema 6"
      ]
    },
    {
      "cell_type": "markdown",
      "metadata": {
        "id": "0v3a4hJATUgX"
      },
      "source": [
        "La temperatura de un servidor (en °C) puede ser modelada mediante la función\n",
        "\n",
        "$$T(t) = -0,5 t^{2} + 3 t + 20$$\n",
        "\n",
        "donde $t$ corresponde al tiempo transcurrido (en horas) en un día laboral. Considere que la jornada laboral comienza a las 08:00 horas y termina a las 17:00 horas.\n",
        "\n",
        "1.  Defina variable dependiente e independiente, indicando unidad de medida.\n",
        "2.  Determine el dominio contextualizado del problema.\n",
        "3.  Grafique la función utilizando *Python*.\n",
        "4.  Mediante un análisis gráfico, estime cuándo el servidor alcanza la máxima temperatura y calcule cuánto es.\n",
        "5.  Determine la temperatura del servidor a las 13:00 horas y al finalizar la jornada laboral.\n"
      ]
    },
    {
      "cell_type": "markdown",
      "metadata": {
        "id": "pD_SzSu3jBkn"
      },
      "source": [
        "# Problema 7"
      ]
    },
    {
      "cell_type": "markdown",
      "metadata": {
        "id": "OJyAOwerjJ5m"
      },
      "source": [
        "El número de usuarios de una red social se puede modelar mediante la función:\n",
        "\n",
        "$$U(t) = \\frac{1.000}{1+9e^{-0.5t}}$$\n",
        "\n",
        "donde $t$ corresponde al tiempo transcurrido en meses.\n",
        "\n",
        "1.  Defina variable dependiente e independiente, indicando unidad de medida.\n",
        "2.  Determine la cantidad de usuarios transcurridos $12$ meses.\n",
        "3.  Grafique la función, utilizando la librería *Matplotlib*, para los primeros dos años de funcionamiento.\n",
        "4.  ¿Cuánto tiempo debe pasar para que la red social llegue a $800$ usuarios?"
      ]
    },
    {
      "cell_type": "markdown",
      "metadata": {
        "id": "TaZ_E6YwB0I4"
      },
      "source": [
        "# Problema 8"
      ]
    },
    {
      "cell_type": "markdown",
      "metadata": {
        "id": "HwpmaO5cDO43"
      },
      "source": [
        "El tiempo de ejecución de un algoritmo de ordenación (en segundos) se puede modelar mediante la función:\n",
        "\n",
        "$$A(n) = 0,01n^{2} + 0,5n + 2$$\n",
        "\n",
        "donde $n$ corresponde a la cantidad de elementos a ordenar. El algoritmo funciona desde las 23:00 horas hasta las 06:00 horas y debe ordenar $1.562$ elementos.\n",
        "\n",
        "1. Defina variable dependiente e independiente, indicando unidad de medida.\n",
        "2. Determine el dominio contextualizado de la función.\n",
        "3. Determine el tiempo de ejecución para ordenar $1.200$ elementos.\n",
        "4. Grafique, utilizando la biblioteca *Matplotlib*, la función $A(n)$.\n",
        "5. ¿Cuántos elementos ordena luego de $6$ horas de funcionamiento?"
      ]
    },
    {
      "cell_type": "markdown",
      "metadata": {
        "id": "yOcCVQKdOeGC"
      },
      "source": [
        "# Problema 9"
      ]
    },
    {
      "cell_type": "markdown",
      "metadata": {
        "id": "QZl4iQT2Ognb"
      },
      "source": [
        "El consumo de energía (en $kWh$) de un *Data Center* puede ser modelado por la función:\n",
        "\n",
        " $$E(t) = 50\\cdot \\log(t + 1) + 200$$\n",
        "\n",
        "donde $t$ corresponde al tiempo (en horas) desde el inicio del monitoreo.\n",
        "\n",
        "1. Defina variable dependiente e independiente, indicando unidad de medida.\n",
        "2. Determine el consumo de energía del *Data Center* después de $5$ horas.\n",
        "3. ¿Luego de cuántas horas el consumo será de $350$ kWh?\n",
        "4. Grafique, utilizando la biblioteca *Matplotlib*, la función $E(t)$."
      ]
    },
    {
      "cell_type": "markdown",
      "metadata": {
        "id": "OHKN7SIFyh2-"
      },
      "source": [
        "# Problema 10"
      ]
    },
    {
      "cell_type": "markdown",
      "metadata": {
        "id": "T1ooPV9Ny4mr"
      },
      "source": [
        "En gestión de proyectos, es crucial entender cómo se distribuye la carga de trabajo a lo largo del tiempo para planificar recursos, tiempo y esfuerzos de manera eficiente. Un fenómeno común es la disminución exponencial de la carga de trabajo, donde el esfuerzo requerido es mayor al inicio del proyecto y disminuye gradualmente a medida que se completan las tareas principales.\n",
        "\n",
        "Esta disminución exponencial puede modelarse matemáticamente para predecir y gestionar el trabajo de manera efectiva.\n",
        "\n",
        "<br>\n",
        "\n",
        "Un estudio sobre gestión de proyectos sostiene que la carga de trabajo en un proyecto (en porcentaje) puede ser modelada por la función:\n",
        "\n",
        "$$W(t) = 100e^{-0.1t}$$\n",
        "\n",
        "donde $t$ corresponde al tiempo transcurrido (en semanas) desde el inicio del proyecto.\n",
        "\n",
        "1. Defina variable dependiente e independiente, indicando unidad de medida.\n",
        "2. Determine la carga de trabajo al inicio del proyecto.\n",
        "3. ¿Cuál será la carga de trabajo luego de transcurridas $4$ semanas desde el inicio del proyecto?\n",
        "4. Si el proyecto duró $12$ semanas, ¿es correcto afirmar que la carga de trabajo llegó al $20\\%$?\n",
        "5. ¿Cuántas semanas han pasado desde el inicio del proyecto para que la carga de trabajo sea de $55\\%$?\n",
        "6. Utilizando *Matplotlib*, grafique la función considerando un tiempo máximo de $12$ semanas."
      ]
    }
  ],
  "metadata": {
    "colab": {
      "provenance": [],
      "toc_visible": true
    },
    "kernelspec": {
      "display_name": "base",
      "language": "python",
      "name": "python3"
    },
    "language_info": {
      "codemirror_mode": {
        "name": "ipython",
        "version": 3
      },
      "file_extension": ".py",
      "mimetype": "text/x-python",
      "name": "python",
      "nbconvert_exporter": "python",
      "pygments_lexer": "ipython3",
      "version": "3.11.5"
    }
  },
  "nbformat": 4,
  "nbformat_minor": 0
}
